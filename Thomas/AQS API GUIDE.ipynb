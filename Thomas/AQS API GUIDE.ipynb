{
 "cells": [
  {
   "cell_type": "markdown",
   "metadata": {},
   "source": [
    "# A Beginners Guide to API | Using Python to Collect Air Quality Data\n",
    "In this tutorial, I'm going to briefly explain the basics of APIs, how to use an API to gather data, and a few optional tips and tricks that I learned in the process. As an example, I'll be using the United States Environmental Protection Agency (EPA) *AirData* API. First, I'll show you how to get your very own API key so that you can access the data for yourself. Then, I'll explain how to use the requests package in python, along with a URL and some parameters, to extract data from a database. And finally, I'll show you how to save the data as a CSV. We will use the air particle data we pull in this example for an experiment later. Let's begin!"
   ]
  },
  {
   "cell_type": "markdown",
   "metadata": {},
   "source": [
    "## A Brief Explanation of APIs\n",
    "In short, an API is a way for us to pretend to be a web browser to extract information from a database. Think about it. You use URLs and web browsers all the time to instantly display webpages. Those web pages are often made up of thousands of lines of code. And those thousands of lines of code come from a database that's giving you the information you asked for based on the URL you sent.\n",
    "\n",
    "With an API, that's exactly what we do. We start with a base URL, then we add some parameters into the URL string to tell the database what information to send back to us. Because every database will have different values stored inside, every API will have different parameters to feed into the URL string. This is why it's important to always look at the documentation for the API you are using. Here is the link to the documentation for the Air Quality System (AQS) data portal: \n",
    " - https://aqs.epa.gov/aqsweb/documents/data_api.html"
   ]
  },
  {
   "cell_type": "markdown",
   "metadata": {},
   "source": [
    "## Obtaining an API Key\n",
    "Most APIs will have some sort of authorization information you'll have to pass into the URL. Various combinations of usernames, IDs, or email addresses along with with passwords, AUTH keys, and tokens are common. Again, every API is different. The AQS requires us to enter an email address to receive an API key. \n",
    " - Signup Documentation - https://aqs.epa.gov/aqsweb/documents/data_api.html#signup  \n",
    "  \n",
    "Copy the link below into your address bar and replace the example email address with your email address.  \n",
    " - https://aqs.epa.gov/data/api/signup?email=myemail@example.com  \n",
    "\n",
    "**You will receive an email with your API key. The authorization information are the first parameters we will pass into the URL string, and they will be necessary to access the API.**"
   ]
  },
  {
   "cell_type": "markdown",
   "metadata": {},
   "source": [
    "## Understanding API Query Limits\n",
    "Most APIs have limits to how they can be used. There are size limits, frequency limits, and parameter limits. Size limits restrict how many rows of data that you can pull at once. Frequency or rate limits restrict how often the API can be accessed. Parameter limits impose some sort of restriction on how parameters can be used.  \n",
    "\n",
    "The EPA AQS has the following limits:\n",
    " - size limit: 1,000,000 rows per query\n",
    " - rate limit: 10 queries per minute \n",
    " - additional: no simultanious queries \n",
    " - recommended: pause of 5 seconds between queries\n",
    " - parameter limits: maximum of 5 \"param\" codes per query\n",
    " - parameter limits: \"bdate\" and \"edate\" must be in the same year\n",
    " \n",
    "**Failure to stay within the limits could trigger the system to disable your account.**"
   ]
  },
  {
   "cell_type": "markdown",
   "metadata": {},
   "source": [
    "## Understanding URL Strings & Parameters\n",
    "Typically, APIs will have various databases that we can interact with, each with their own base URL and parameters. Let's look at the AQS documentation to find the base URL and which databases we can interact with.\n",
    " - Services Documentation: https://aqs.epa.gov/aqsweb/documents/data_api.html#services\n",
    "\n",
    " - **Base URL: https://aqs.epa.gov/data/api/**\n",
    "\n",
    "As you can see in the services overview, there are many datasets availiable. Let's go through a few of them.\n",
    " - Lists: Provides the variable values you may need to create other service requests.\n",
    " - Sample Data: Returns fine-grain data reported to the EPA via monitors throughout the country.\n",
    "\n",
    "Now let's explore the sample data service, making sure we look closely at the *endpoints* and *variables*.  \n",
    " - https://aqs.epa.gov/aqsweb/documents/data_api.html#sample\n",
    " \n",
    "As you can see in the sample data overview, thare are many *endpoints* availiable such as: by site, by county, by state, by box, and by csba. These endpoints are different geograpical areas by which we can group (or filter) the monitor data.  \n",
    " - By State: https://aqs.epa.gov/data/api/sampleData/byState?\n",
    " - By CBSA: https://aqs.epa.gov/data/api/sampleData/byCBSA?  \n",
    " \n",
    "**Notice the structure of the URL: base_url/service(database)/endpoint(filter)**\n",
    "\n",
    "Each endpoint has different required variables (or parameters). These required variables are added to the URL to further specify what information we want the API to return to us. For example, if we were to query sample data *by state* we would need to specify from which state we want sample data. Because databases and APIs have unique structures, we must use the specific language of the database and API we are working with. \n",
    " - Variables for this API: https://aqs.epa.gov/aqsweb/documents/data_api.html#variables  \n",
    "\n",
    " - By State required variables: email, key, param, bdate, edate, state\n",
    "  - Example query URL: https://aqs.epa.gov/data/api/sampleData/byState?email=test@aqs.api&key=test&param=45201&bdate=19950515&edate=19950515&state=37\n",
    " - By CBSA required variables: email, key, param, bdate, edate, cbsa\n",
    "  - Example query URL: https://aqs.epa.gov/data/api/sampleData/byCBSA?email=test@aqs.api&key=test&param=42602&bdate=20170101&edate=20170101&cbsa=16740  \n",
    "  \n",
    "**Notice the use of numerical codes being used to represent a state or cbsa. These can be found in the 'lists' service**\n"
   ]
  },
  {
   "cell_type": "markdown",
   "metadata": {},
   "source": [
    "## Using an API to Collect Data\n",
    "Now that you know the basics about APIs, URL strings, and parameters, lets explore how to actually use them. You may be wondering, if APIs work to distribute data simply by the URL they receive, can't we just use our web browser to collect data? Yes! You could just create your URL string with the parameters you desire, pass the URL into your web browser, and press enter. Typically, this will result in your web browser displaying a JSON file which represents the data via a structured list of lists. You could then save this JSON file to your computer and access it with something like excel.  \n",
    "\n",
    "While the above method is fine for a one-off query, this method doesn't really scale well for multiple queries. What if you want to query every state? or a list of states? or a list of dates? or some combination of several dates, areas, and pollution types? Changing all of this information by hand, one query at a time, can be tedious and slow. This is where programming comes in, to help us scale and even automate our collection of data."
   ]
  },
  {
   "cell_type": "markdown",
   "metadata": {},
   "source": [
    "## Using Python & requests to query an API"
   ]
  },
  {
   "cell_type": "markdown",
   "metadata": {},
   "source": [
    "### Hiding Your API Key (Optional)\n",
    "If you plan on sharing your code with others, either by working with a partner or by uploading your code to an online repository like github, then you'll want to know how you can hide your API key. There are a few methods to accomplish this task, but I think the best way is to save your key as an environment variable and then call that environment variable into your code. That way, when share your code with others, all they will see is that you called an environment variable. They won't be able to see the variable itself. Let me show you how!\n",
    "\n",
    "First you will need to save your authentication information as environment variables. There are many guides about how to do this depending on how your environment is set up. I use Anaconda to set up my python environments, so the method I used can be found here:  \n",
    " - https://conda.io/projects/conda/en/latest/user-guide/tasks/manage-environments.html#setting-environment-variables\n",
    " \n",
    "If you want a tutorial about how to set up your environment or environment variables, please let me know!"
   ]
  },
  {
   "cell_type": "code",
   "execution_count": 1,
   "metadata": {
    "code_folding": []
   },
   "outputs": [],
   "source": [
    "## Now that you have your environment variables set, you just need to call them into the script.\n",
    "## To do this, we will need to use the getenv() function found in the package called 'os'\n",
    "## My email and key are stored in my environment under the names 'airnow_email' & 'airnow_key'\n",
    "\n",
    "## Load the os package\n",
    "import os\n",
    "\n",
    "## Call the variables into the script, or replace with your email and key.\n",
    "email = os.getenv('airnow_email')\n",
    "key = os.getenv('airnow_key')\n",
    "\n",
    "## From now on, when I use the variable 'email' in my code, the program will be using my actual \n",
    "## email, without having to display it in the code. neat!"
   ]
  },
  {
   "cell_type": "markdown",
   "metadata": {},
   "source": [
    "### Adding Parameters\n",
    "Now that we have our email and key registered and ready to go, let's think about what parameters we want to add to our query string. For my project, I'm looking for sample data: \n",
    " - of small particle air pollution levels (PM 2.5)\n",
    " - in the Seattle-Tacoma-Bellevue CBSA\n",
    " - from Jan 1 to May 31\n",
    " - for the years: 2018, 2019, & 2020"
   ]
  },
  {
   "cell_type": "code",
   "execution_count": 2,
   "metadata": {},
   "outputs": [],
   "source": [
    "'''\n",
    "Parameters: sampleData/byCBSA\temail, key, param, bdate, edate, cbsa\n",
    "'''\n",
    "## First, lets find the codes we'll need for the param and cbsa variables. These can be found\n",
    "## by accessing the 'lists' service of the API. \n",
    "## Note: We could just visit the links and ctrl+f for 'Seattle-Tacoma-Bellevue' or 'PM 2.5'\n",
    "## However, if you plan to access the database often, it may be helpful to save the code lists.\n",
    "\n",
    "## Dependencies\n",
    "import requests\n",
    "import pandas as pd\n",
    "\n",
    "## Using requests get() function to retrieve a list of CBSAs\n",
    "## Then using the .json() method to convert the r object to JSON format\n",
    "## Then pandas DataFrame.from_dict() function to convert the \"Data\" portion of the JSON file\n",
    "## to a DF.Then pandas to_csv() function to save the DF as a .CSV file\n",
    "cbsa_list_url = 'https://aqs.epa.gov/data/api/list/cbsas?email=test@aqs.api&key=test'\n",
    "r = requests.get(cbsa_list_url)\n",
    "cbsa_list_json = r.json()\n",
    "cbsa_list = pd.DataFrame.from_dict(cbsa_list_json[\"Data\"])\n",
    "cbsa_list.to_csv(\"cbsa_list.csv\")\n",
    "\n",
    "## Similarly, we can create and save a list of Parameter Classes\n",
    "parameter_classes_url ='https://aqs.epa.gov/data/api/list/classes?email=test@aqs.api&key=test'\n",
    "r = requests.get(parameter_classes_url)\n",
    "parameter_classes_json = r.json()\n",
    "parameter_classes = pd.DataFrame.from_dict(parameter_classes_json[\"Data\"])\n",
    "parameter_classes.to_csv(\"parameter_classes.csv\")\n",
    "\n",
    "## Similarly, we can create and save a list of Parameters in ALL Parameter Classes.\n",
    "parameters_url = 'https://aqs.epa.gov/data/api/list/parametersByClass?email=test@aqs.api&key=test&pc=ALL'\n",
    "r = requests.get(parameters_url)\n",
    "parameters_json = r.json()\n",
    "parameters = pd.DataFrame.from_dict(parameters_json[\"Data\"])\n",
    "parameters.to_csv(\"parameters.csv\")\n",
    "\n",
    "## Now we can fill in the parameter details using the codes from the lists\n",
    "param = 88101\n",
    "cbsa = 42660"
   ]
  },
  {
   "cell_type": "markdown",
   "metadata": {},
   "source": [
    "### Putting It All Together \n",
    "One of the benefits of using python is the ability to execute multiple queries easily. Here, I'll show you how to iterate through a list of years to perform three separate queries, with a delay in between each one, so that we adhere to the API limit rules. We will use the sleep() function in the time package to add the delay."
   ]
  },
  {
   "cell_type": "code",
   "execution_count": null,
   "metadata": {},
   "outputs": [],
   "source": [
    "## Dependencies\n",
    "import time\n",
    "\n",
    "## Since I only want to query sample data by cbsa, I will start with this as my base url.\n",
    "base_url = 'https://aqs.epa.gov/data/api/sampleData/byCBSA?'\n",
    "\n",
    "## Using a list and for loop to run multiple queries and save multiple data files programatically\n",
    "years_list = [2018, 2019, 2020]\n",
    "for year in years_list:\n",
    "    bdate = str(year) + '0101'\n",
    "    edate = str(year) + '0531'\n",
    "    ## The get() function in requests can also take a dictionary of variable:value pairs, along\n",
    "    ## with a base URL, and correctly feed the variables and values into the URL string.\n",
    "    ## This allows you to easily change parameters.\n",
    "    parameter_dictionary = {\"email\":email, \"key\":key, \"param\":param, \n",
    "                        \"bdate\":bdate, \"edate\":edate, \"cbsa\":cbsa}\n",
    "    r = requests.get(base_url, parameter_dictionary)\n",
    "    query_json = r.json()\n",
    "    query = pd.DataFrame.from_dict(query_json[\"Data\"])\n",
    "    ## By using the for loop to change the beginning and end dates, we can also utilize the for\n",
    "    ## loop to generate unique save files with descriptive names.\n",
    "    query.to_csv(bdate+\"_to_\"+edate+\"Seattle-Tacoma-Bellevue_PM2.5.csv\")\n",
    "    time.sleep(5)"
   ]
  },
  {
   "cell_type": "markdown",
   "metadata": {},
   "source": [
    "## Conclusion\n",
    "There you have it. Now you know the basics about APIs, URL strings, and parameters. And, you know how to use python and the requests package to get() the data using the API. Good luck collecting your own data!"
   ]
  }
 ],
 "metadata": {
  "kernelspec": {
   "display_name": "Python 3",
   "language": "python",
   "name": "python3"
  },
  "language_info": {
   "codemirror_mode": {
    "name": "ipython",
    "version": 3
   },
   "file_extension": ".py",
   "mimetype": "text/x-python",
   "name": "python",
   "nbconvert_exporter": "python",
   "pygments_lexer": "ipython3",
   "version": "3.7.6"
  },
  "toc": {
   "base_numbering": 1,
   "nav_menu": {},
   "number_sections": true,
   "sideBar": true,
   "skip_h1_title": false,
   "title_cell": "Table of Contents",
   "title_sidebar": "Contents",
   "toc_cell": false,
   "toc_position": {},
   "toc_section_display": true,
   "toc_window_display": false
  }
 },
 "nbformat": 4,
 "nbformat_minor": 4
}
