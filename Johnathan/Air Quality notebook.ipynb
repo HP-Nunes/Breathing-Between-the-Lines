{
 "cells": [
  {
   "cell_type": "code",
   "execution_count": 212,
   "metadata": {},
   "outputs": [
    {
     "data": {
      "text/html": [
       "<div>\n",
       "<style scoped>\n",
       "    .dataframe tbody tr th:only-of-type {\n",
       "        vertical-align: middle;\n",
       "    }\n",
       "\n",
       "    .dataframe tbody tr th {\n",
       "        vertical-align: top;\n",
       "    }\n",
       "\n",
       "    .dataframe thead th {\n",
       "        text-align: right;\n",
       "    }\n",
       "</style>\n",
       "<table border=\"1\" class=\"dataframe\">\n",
       "  <thead>\n",
       "    <tr style=\"text-align: right;\">\n",
       "      <th></th>\n",
       "      <th>date</th>\n",
       "      <th>parameter</th>\n",
       "      <th>location</th>\n",
       "      <th>value</th>\n",
       "      <th>unit</th>\n",
       "      <th>coordinates</th>\n",
       "      <th>time</th>\n",
       "    </tr>\n",
       "  </thead>\n",
       "  <tbody>\n",
       "    <tr>\n",
       "      <th>0</th>\n",
       "      <td>2018-01-02</td>\n",
       "      <td>pm25</td>\n",
       "      <td>Seattle-Beacon Hill</td>\n",
       "      <td>4.7</td>\n",
       "      <td>µg/m³</td>\n",
       "      <td>{latitude=47.568237, longitude=-122.308624}</td>\n",
       "      <td>11:00:00</td>\n",
       "    </tr>\n",
       "    <tr>\n",
       "      <th>1</th>\n",
       "      <td>2018-01-05</td>\n",
       "      <td>pm25</td>\n",
       "      <td>Seattle-Beacon Hill</td>\n",
       "      <td>4.6</td>\n",
       "      <td>µg/m³</td>\n",
       "      <td>{latitude=47.568237, longitude=-122.308624}</td>\n",
       "      <td>04:00:00</td>\n",
       "    </tr>\n",
       "    <tr>\n",
       "      <th>2</th>\n",
       "      <td>2018-01-05</td>\n",
       "      <td>pm25</td>\n",
       "      <td>Seattle-Beacon Hill</td>\n",
       "      <td>6.4</td>\n",
       "      <td>µg/m³</td>\n",
       "      <td>{latitude=47.568237, longitude=-122.308624}</td>\n",
       "      <td>08:00:00</td>\n",
       "    </tr>\n",
       "    <tr>\n",
       "      <th>3</th>\n",
       "      <td>2018-01-05</td>\n",
       "      <td>pm25</td>\n",
       "      <td>Seattle-Beacon Hill</td>\n",
       "      <td>15.8</td>\n",
       "      <td>µg/m³</td>\n",
       "      <td>{latitude=47.568237, longitude=-122.308624}</td>\n",
       "      <td>17:00:00</td>\n",
       "    </tr>\n",
       "    <tr>\n",
       "      <th>4</th>\n",
       "      <td>2018-01-05</td>\n",
       "      <td>pm25</td>\n",
       "      <td>Seattle-Beacon Hill</td>\n",
       "      <td>28.1</td>\n",
       "      <td>µg/m³</td>\n",
       "      <td>{latitude=47.568237, longitude=-122.308624}</td>\n",
       "      <td>16:00:00</td>\n",
       "    </tr>\n",
       "  </tbody>\n",
       "</table>\n",
       "</div>"
      ],
      "text/plain": [
       "         date parameter             location  value   unit  \\\n",
       "0  2018-01-02      pm25  Seattle-Beacon Hill    4.7  µg/m³   \n",
       "1  2018-01-05      pm25  Seattle-Beacon Hill    4.6  µg/m³   \n",
       "2  2018-01-05      pm25  Seattle-Beacon Hill    6.4  µg/m³   \n",
       "3  2018-01-05      pm25  Seattle-Beacon Hill   15.8  µg/m³   \n",
       "4  2018-01-05      pm25  Seattle-Beacon Hill   28.1  µg/m³   \n",
       "\n",
       "                                   coordinates      time  \n",
       "0  {latitude=47.568237, longitude=-122.308624}  11:00:00  \n",
       "1  {latitude=47.568237, longitude=-122.308624}  04:00:00  \n",
       "2  {latitude=47.568237, longitude=-122.308624}  08:00:00  \n",
       "3  {latitude=47.568237, longitude=-122.308624}  17:00:00  \n",
       "4  {latitude=47.568237, longitude=-122.308624}  16:00:00  "
      ]
     },
     "execution_count": 212,
     "metadata": {},
     "output_type": "execute_result"
    }
   ],
   "source": [
    "import pandas as pd\n",
    "import matplotlib.pyplot as plt\n",
    "import re\n",
    "\n",
    "df = pd.read_csv('18.01.01 - 18.01.29.csv')\n",
    "\n",
    "\n",
    "df = df.drop(columns = {'city', 'country', 'sourcename', 'mobile', 'sourcetype', 'attribution', 'averagingperiod'})\n",
    "\n",
    "def append_df():\n",
    "    pass\n",
    "\n",
    "\n",
    "def get_date(data):\n",
    "    '''\n",
    "    yeilds cleaned date and creates new date column to use for time series plotting\n",
    "    '''\n",
    "    \n",
    "    dates = []\n",
    "    times = []\n",
    "    i = 0\n",
    "    while i <= len(data)-1:\n",
    "        time_split = re.split('{ |=|T|-', data['date'][i])\n",
    "        date_split = re.split('{ |=|T',data['date'][i])\n",
    "        dates.append(date_split[1])\n",
    "        times.append(time_split[-2])\n",
    "        i +=1\n",
    "    df['time'] = times\n",
    "    df['date'] = dates\n",
    "\n",
    "get_date(df)\n",
    "df.head()"
   ]
  },
  {
   "cell_type": "code",
   "execution_count": 203,
   "metadata": {},
   "outputs": [
    {
     "data": {
      "text/plain": [
       "([0,\n",
       "  1,\n",
       "  2,\n",
       "  3,\n",
       "  4,\n",
       "  5,\n",
       "  6,\n",
       "  7,\n",
       "  8,\n",
       "  9,\n",
       "  10,\n",
       "  11,\n",
       "  12,\n",
       "  13,\n",
       "  14,\n",
       "  15,\n",
       "  16,\n",
       "  17,\n",
       "  18,\n",
       "  19,\n",
       "  20,\n",
       "  21,\n",
       "  22,\n",
       "  23,\n",
       "  24],\n",
       " <a list of 25 Text major ticklabel objects>)"
      ]
     },
     "execution_count": 203,
     "metadata": {},
     "output_type": "execute_result"
    },
    {
     "data": {
      "image/png": "[encoded data removed]",
      "text/plain": [
       "<Figure size 432x288 with 1 Axes>"
      ]
     },
     "metadata": {
      "needs_background": "light"
     },
     "output_type": "display_data"
    }
   ],
   "source": [
    "plt.bar(df['date'], df['value'])\n",
    "plt.xticks(rotation = 90)"
   ]
  },
  {
   "cell_type": "code",
   "execution_count": null,
   "metadata": {},
   "outputs": [],
   "source": []
  }
 ],
 "metadata": {
  "kernelspec": {
   "display_name": "Python 3",
   "language": "python",
   "name": "python3"
  },
  "language_info": {
   "codemirror_mode": {
    "name": "ipython",
    "version": 3
   },
   "file_extension": ".py",
   "mimetype": "text/x-python",
   "name": "python",
   "nbconvert_exporter": "python",
   "pygments_lexer": "ipython3",
   "version": "3.7.4"
  }
 },
 "nbformat": 4,
 "nbformat_minor": 2
}
