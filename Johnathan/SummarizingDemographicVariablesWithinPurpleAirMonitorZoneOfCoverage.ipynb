{
 "cells": [
  {
   "cell_type": "markdown",
   "metadata": {},
   "source": [
    "# Background about the data"
   ]
  },
  {
   "cell_type": "markdown",
   "metadata": {},
   "source": [
    "I have generated three incremental circular buffers around each [known PurpleAir's sensors](http://map.pscleanair.org/) in Seattle, with the respective range of 1000 m (red), 3000 m (orange), and 6000 m (green). These three groups are indicated by the <b>\"mrb_dist\"</b> field. I then intersected those buffers with a Census Blocks layer containing data about different age and race groups.\n",
    "\n",
    "![buffers](forJ_img/census_intersected_purpleAirRange.PNG)\n",
    "\n",
    "ps: Note that, for example, 1000 m refers to the radius of the buffer."
   ]
  },
  {
   "cell_type": "markdown",
   "metadata": {},
   "source": [
    "Now, the thing to keep in mind about each of those buffers is that they *do not* overlap. See below (orange point represents a sensor's location):\n",
    "\n",
    "![buffers](forJ_img/buff1.PNG)\n",
    "* Communities that live within 1,000 m for a PurpleAir's sensor;\n",
    "\n",
    "![buffers](forJ_img/buff2.PNG)\n",
    "* Communities that live further than 1,000 m away, and not further than 3,000 m;\n",
    "\n",
    "![buffers](forJ_img/buff3.PNG)\n",
    "* Communities that live further than 3,000 m away from a sensor, and not further than 6,000 m.\n",
    "\n",
    "\n",
    "<b>Why did I do this?</b>\n",
    "    I thought that this may highlight similarities/differences between groups based on proximity to a sensor. If you have reservations about my thought-process, please let me know."
   ]
  },
  {
   "cell_type": "markdown",
   "metadata": {},
   "source": [
    "## Making a necessary adjustment to the Blocks at the boundaries of incremental buffers"
   ]
  },
  {
   "cell_type": "markdown",
   "metadata": {},
   "source": [
    "An issue that is not immediately apparent but can cause a loss of precision in the subsequent analysis is this:\n",
    "![](forJ_img/error.PNG)\n",
    "\n",
    "\n",
    "The polygon highlighted overlaps the boundary between two buffers. If the data was a raster, made of pixels, this wouldn't be an issue: the value would be aggregated to the total number of pixels within its respective boundaries.\n",
    "\n",
    "However, this is a vector dataset. Thus, the entire polygon, regardless of how large it is, retains the same value. Thus, what is happening above, where the Census Block polygon is intersected by the boundaries of the buffer, is replicating the data twice between buffers.\n",
    "\n",
    "That kind of error isn't the biggest of deals, but we do want to try to retain our analysis as accurate as possible.\n",
    "\n",
    "Therefore, not really recalling the stuff I could do in QGIS to rectify this, I calculated the area for each feature in the dataset (in m squared). The goal? Remove all duplicates of Blocks which have been intersected using a criteria: if the area of the duplicated feature is smaller than the other, it gets removed.\n",
    "\n",
    "***\n",
    "![](forJ_img/validating_area.PNG)\n",
    "*Pro-tip: Confirm if generated outputs seem weird. I wasn't 100% confident about the values generated for area; using the [Vector > Analysis Tools > Basic Statistic for Fields] tool, I found the sum of area for all of my Census Tracts, an output reasonably close according to Google:*\n",
    "\n",
    "![](forJ_img/google.png)\n",
    "*(It's not exactly equal because a couple of Blocks were dropped since there were breaks in the Census' geometry...but these Blocks weren't situated in residential areas so it's fine to omit them...if you thought data cleaning was bad before welcome to my world fml).*\n",
    "***\n",
    "\n",
    "This way, we don't get a tiny intersected segment having an outsized effect when you'll be doing your group-by's aggregations'.\n",
    "\n",
    "Note: thinking as a spatial analyst, this is far from an \"ideal\" option, since polygons don't represent density of data, but an abstraction tied to a delineated unit. But why not convert the vector to a raster you might say? If we were dealing with one feature only, say population density, sure! And we could figure out some type of normalization ad hoc. But we've like, dozens of features at least, and converting each of those features into their respective raster representation would be time consuming and a huge hassle. For our purposes, this is an absolutely appropriate method to rectify noise in our dataset. Yes I'm writing all of this down so 1) I don't forget and 2) to convince myself that I am not totally clueless."
   ]
  },
  {
   "cell_type": "code",
   "execution_count": 2,
   "metadata": {},
   "outputs": [
    {
     "name": "stdout",
     "output_type": "stream",
     "text": [
      "Requirement already satisfied: geopandas in c:\\users\\johna\\anaconda3\\lib\\site-packages (0.6.1)\n",
      "Requirement already satisfied: pandas>=0.23.0 in c:\\users\\johna\\anaconda3\\lib\\site-packages (from geopandas) (1.0.4)\n",
      "Requirement already satisfied: fiona in c:\\users\\johna\\anaconda3\\lib\\site-packages (from geopandas) (1.8.4)\n",
      "Requirement already satisfied: shapely in c:\\users\\johna\\anaconda3\\lib\\site-packages (from geopandas) (1.6.4.post1)\n",
      "Requirement already satisfied: pyproj in c:\\users\\johna\\anaconda3\\lib\\site-packages (from geopandas) (1.9.6)\n",
      "Requirement already satisfied: python-dateutil>=2.6.1 in c:\\users\\johna\\anaconda3\\lib\\site-packages (from pandas>=0.23.0->geopandas) (2.8.0)\n",
      "Requirement already satisfied: numpy>=1.13.3 in c:\\users\\johna\\anaconda3\\lib\\site-packages (from pandas>=0.23.0->geopandas) (1.16.5)\n",
      "Requirement already satisfied: pytz>=2017.2 in c:\\users\\johna\\anaconda3\\lib\\site-packages (from pandas>=0.23.0->geopandas) (2019.3)\n",
      "Requirement already satisfied: attrs>=17 in c:\\users\\johna\\anaconda3\\lib\\site-packages (from fiona->geopandas) (19.3.0)\n",
      "Requirement already satisfied: click<8,>=4.0 in c:\\users\\johna\\anaconda3\\lib\\site-packages (from fiona->geopandas) (7.0)\n",
      "Requirement already satisfied: cligj>=0.5 in c:\\users\\johna\\anaconda3\\lib\\site-packages (from fiona->geopandas) (0.5.0)\n",
      "Requirement already satisfied: click-plugins>=1.0 in c:\\users\\johna\\anaconda3\\lib\\site-packages (from fiona->geopandas) (1.1.1)\n",
      "Requirement already satisfied: six>=1.7 in c:\\users\\johna\\anaconda3\\lib\\site-packages (from fiona->geopandas) (1.12.0)\n",
      "Requirement already satisfied: munch in c:\\users\\johna\\anaconda3\\lib\\site-packages (from fiona->geopandas) (2.5.0)\n",
      "Note: you may need to restart the kernel to use updated packages.\n"
     ]
    }
   ],
   "source": [
    "pip install geopandas"
   ]
  },
  {
   "cell_type": "code",
   "execution_count": 2,
   "metadata": {},
   "outputs": [],
   "source": [
    "import seaborn as sns; sns.set()\n",
    "import matplotlib.pyplot as plt\n",
    "import geopandas as gpd  # You might need to install geopandas\n",
    "import pandas as pd\n",
    "import glob # You might need to install glob"
   ]
  },
  {
   "cell_type": "markdown",
   "metadata": {},
   "source": [
    "## Importing the stuff"
   ]
  },
  {
   "cell_type": "code",
   "execution_count": 4,
   "metadata": {},
   "outputs": [
    {
     "data": {
      "text/plain": [
       "['./forJ_data\\\\CensusTracts_Union_RedLined.geojson',\n",
       " './forJ_data\\\\forPandas_censusBlocks_validated_intersectedwithPurpleAirBuffers_areaCalculated.geojson']"
      ]
     },
     "metadata": {},
     "output_type": "display_data"
    },
    {
     "ename": "IndexError",
     "evalue": "list index out of range",
     "output_type": "error",
     "traceback": [
      "\u001b[1;31m---------------------------------------------------------------------------\u001b[0m",
      "\u001b[1;31mIndexError\u001b[0m                                Traceback (most recent call last)",
      "\u001b[1;32m<ipython-input-4-e3b1e70ce8b8>\u001b[0m in \u001b[0;36m<module>\u001b[1;34m\u001b[0m\n\u001b[0;32m      8\u001b[0m \u001b[1;33m\u001b[0m\u001b[0m\n\u001b[0;32m      9\u001b[0m \u001b[1;32mfor\u001b[0m \u001b[0mfile\u001b[0m \u001b[1;32min\u001b[0m \u001b[0mfiles\u001b[0m\u001b[1;33m:\u001b[0m\u001b[1;33m\u001b[0m\u001b[1;33m\u001b[0m\u001b[0m\n\u001b[1;32m---> 10\u001b[1;33m     \u001b[0mfile_name\u001b[0m \u001b[1;33m=\u001b[0m \u001b[0mfile\u001b[0m\u001b[1;33m.\u001b[0m\u001b[0msplit\u001b[0m\u001b[1;33m(\u001b[0m\u001b[1;34m'.'\u001b[0m\u001b[1;33m)\u001b[0m\u001b[1;33m[\u001b[0m\u001b[1;36m1\u001b[0m\u001b[1;33m]\u001b[0m\u001b[1;33m.\u001b[0m\u001b[0msplit\u001b[0m\u001b[1;33m(\u001b[0m\u001b[1;34m'\\\\'\u001b[0m\u001b[1;33m)\u001b[0m\u001b[1;33m[\u001b[0m\u001b[1;36m2\u001b[0m\u001b[1;33m]\u001b[0m\u001b[1;33m\u001b[0m\u001b[1;33m\u001b[0m\u001b[0m\n\u001b[0m\u001b[0;32m     11\u001b[0m     \u001b[0md\u001b[0m\u001b[1;33m[\u001b[0m\u001b[0mfile_name\u001b[0m\u001b[1;33m]\u001b[0m \u001b[1;33m=\u001b[0m \u001b[0mgpd\u001b[0m\u001b[1;33m.\u001b[0m\u001b[0mread_file\u001b[0m\u001b[1;33m(\u001b[0m\u001b[0mfile\u001b[0m\u001b[1;33m)\u001b[0m\u001b[1;33m\u001b[0m\u001b[1;33m\u001b[0m\u001b[0m\n\u001b[0;32m     12\u001b[0m     \u001b[0mprint\u001b[0m\u001b[1;33m(\u001b[0m\u001b[0mfile_name\u001b[0m\u001b[1;33m)\u001b[0m\u001b[1;33m\u001b[0m\u001b[1;33m\u001b[0m\u001b[0m\n",
      "\u001b[1;31mIndexError\u001b[0m: list index out of range"
     ]
    }
   ],
   "source": [
    "d = {}  # dictionary that will hold them \n",
    "\n",
    "#C:\\Users\\johna\\Desktop\\forJ\\forJohnathan_SummarizingDemographicVariablesWithinPurpleAirMonitorZoneOfCoverage.ipynb\n",
    "\n",
    "# glob allows you to batch import multiple files...I mean I'm only importing one file here...for future reference\n",
    "files = glob.glob('./forJ_data/*.geojson') \n",
    "display(files)\n",
    "\n",
    "for file in files:\n",
    "    file_name = file.split('.')[1].split('\\\\')[2]\n",
    "    d[file_name] = gpd.read_file(file)\n",
    "    print(file_name)\n",
    "    print(type(d[file_name]))"
   ]
  },
  {
   "cell_type": "code",
   "execution_count": 3,
   "metadata": {},
   "outputs": [],
   "source": [
    "files = glob.glob('./forJ_data/*.geojson') \n",
    "df_holc = gpd.read_file(files[0])"
   ]
  },
  {
   "cell_type": "code",
   "execution_count": 201,
   "metadata": {},
   "outputs": [
    {
     "data": {
      "text/plain": [
       "0.2675294117647059"
      ]
     },
     "execution_count": 201,
     "metadata": {},
     "output_type": "execute_result"
    }
   ],
   "source": [
    "4.548/len(length)"
   ]
  },
  {
   "cell_type": "code",
   "execution_count": null,
   "metadata": {},
   "outputs": [],
   "source": [
    "Asthm = {'A':0.52, 'B':0.22, 'C':0.40, 'D':0.27}"
   ]
  },
  {
   "cell_type": "code",
   "execution_count": 4,
   "metadata": {
    "scrolled": false
   },
   "outputs": [
    {
     "data": {
      "text/plain": [
       "291600"
      ]
     },
     "metadata": {},
     "output_type": "display_data"
    },
    {
     "data": {
      "text/plain": [
       "Index(['OBJECTID', 'GEOID10', 'GEO_TYPE', 'TRACT_10', 'Total_Population',\n",
       "       'Female_under_5_years', 'Male_under_5_years',\n",
       "       'Female_Person_of_Color_5_17_years', 'Male_Person_of_Color_5_17_years',\n",
       "       'Female_White_5_17_years', 'Male_White_5_17_years',\n",
       "       'Female_Age_65_and_over', 'Male_Age_65_and_over',\n",
       "       'Population_Hispanic_or_Latino', 'Pop_Not_Hispanic_White_alone',\n",
       "       'Pop_Not_Hispanic_Black_or_African_American_alone',\n",
       "       'Pop_Not_Hispanic_American_Indian_and_Alaska_Native_alone',\n",
       "       'Pop_Not_Hispanic_Asian_alone',\n",
       "       'Pop_Not_Hispanic_Native_Hawaiian_and_Oth_Pacific_Islander_alone',\n",
       "       'Pop_Not_Hispanic_Some_Other_Race_alone',\n",
       "       'Pop_Not_Hispanic_Two_or_More_Races', 'mrb_dist', 'area_intersect',\n",
       "       'geometry'],\n",
       "      dtype='object')"
      ]
     },
     "metadata": {},
     "output_type": "display_data"
    },
    {
     "data": {
      "text/plain": [
       "OBJECTID                                                              int64\n",
       "GEOID10                                                              object\n",
       "GEO_TYPE                                                             object\n",
       "TRACT_10                                                             object\n",
       "Total_Population                                                      int64\n",
       "Female_under_5_years                                                  int64\n",
       "Male_under_5_years                                                    int64\n",
       "Female_Person_of_Color_5_17_years                                     int64\n",
       "Male_Person_of_Color_5_17_years                                       int64\n",
       "Female_White_5_17_years                                               int64\n",
       "Male_White_5_17_years                                                 int64\n",
       "Female_Age_65_and_over                                                int64\n",
       "Male_Age_65_and_over                                                  int64\n",
       "Population_Hispanic_or_Latino                                         int64\n",
       "Pop_Not_Hispanic_White_alone                                          int64\n",
       "Pop_Not_Hispanic_Black_or_African_American_alone                      int64\n",
       "Pop_Not_Hispanic_American_Indian_and_Alaska_Native_alone              int64\n",
       "Pop_Not_Hispanic_Asian_alone                                          int64\n",
       "Pop_Not_Hispanic_Native_Hawaiian_and_Oth_Pacific_Islander_alone       int64\n",
       "Pop_Not_Hispanic_Some_Other_Race_alone                                int64\n",
       "Pop_Not_Hispanic_Two_or_More_Races                                    int64\n",
       "mrb_dist                                                             object\n",
       "area_intersect                                                      float64\n",
       "geometry                                                           geometry\n",
       "dtype: object"
      ]
     },
     "metadata": {},
     "output_type": "display_data"
    },
    {
     "name": "stdout",
     "output_type": "stream",
     "text": [
      "conversion tip: https://stackoverflow.com/questions/39173813/pandas-convert-dtype-object-to-int\n"
     ]
    },
    {
     "data": {
      "text/html": [
       "<div>\n",
       "<style scoped>\n",
       "    .dataframe tbody tr th:only-of-type {\n",
       "        vertical-align: middle;\n",
       "    }\n",
       "\n",
       "    .dataframe tbody tr th {\n",
       "        vertical-align: top;\n",
       "    }\n",
       "\n",
       "    .dataframe thead th {\n",
       "        text-align: right;\n",
       "    }\n",
       "</style>\n",
       "<table border=\"1\" class=\"dataframe\">\n",
       "  <thead>\n",
       "    <tr style=\"text-align: right;\">\n",
       "      <th></th>\n",
       "      <th>OBJECTID</th>\n",
       "      <th>GEOID10</th>\n",
       "      <th>GEO_TYPE</th>\n",
       "      <th>TRACT_10</th>\n",
       "      <th>Total_Population</th>\n",
       "      <th>Female_under_5_years</th>\n",
       "      <th>Male_under_5_years</th>\n",
       "      <th>Female_Person_of_Color_5_17_years</th>\n",
       "      <th>Male_Person_of_Color_5_17_years</th>\n",
       "      <th>Female_White_5_17_years</th>\n",
       "      <th>...</th>\n",
       "      <th>Pop_Not_Hispanic_White_alone</th>\n",
       "      <th>Pop_Not_Hispanic_Black_or_African_American_alone</th>\n",
       "      <th>Pop_Not_Hispanic_American_Indian_and_Alaska_Native_alone</th>\n",
       "      <th>Pop_Not_Hispanic_Asian_alone</th>\n",
       "      <th>Pop_Not_Hispanic_Native_Hawaiian_and_Oth_Pacific_Islander_alone</th>\n",
       "      <th>Pop_Not_Hispanic_Some_Other_Race_alone</th>\n",
       "      <th>Pop_Not_Hispanic_Two_or_More_Races</th>\n",
       "      <th>mrb_dist</th>\n",
       "      <th>area_intersect</th>\n",
       "      <th>geometry</th>\n",
       "    </tr>\n",
       "  </thead>\n",
       "  <tbody>\n",
       "    <tr>\n",
       "      <th>0</th>\n",
       "      <td>1</td>\n",
       "      <td>530330067001001</td>\n",
       "      <td>Block</td>\n",
       "      <td>6700</td>\n",
       "      <td>38</td>\n",
       "      <td>0</td>\n",
       "      <td>0</td>\n",
       "      <td>0</td>\n",
       "      <td>0</td>\n",
       "      <td>0</td>\n",
       "      <td>...</td>\n",
       "      <td>30</td>\n",
       "      <td>0</td>\n",
       "      <td>0</td>\n",
       "      <td>2</td>\n",
       "      <td>0</td>\n",
       "      <td>1</td>\n",
       "      <td>3</td>\n",
       "      <td>3000</td>\n",
       "      <td>121037.5710</td>\n",
       "      <td>MULTIPOLYGON (((549534.375 5275664.786, 549554...</td>\n",
       "    </tr>\n",
       "    <tr>\n",
       "      <th>1</th>\n",
       "      <td>2</td>\n",
       "      <td>530330069001009</td>\n",
       "      <td>Block</td>\n",
       "      <td>6900</td>\n",
       "      <td>90</td>\n",
       "      <td>4</td>\n",
       "      <td>5</td>\n",
       "      <td>2</td>\n",
       "      <td>2</td>\n",
       "      <td>7</td>\n",
       "      <td>...</td>\n",
       "      <td>76</td>\n",
       "      <td>0</td>\n",
       "      <td>1</td>\n",
       "      <td>4</td>\n",
       "      <td>0</td>\n",
       "      <td>0</td>\n",
       "      <td>3</td>\n",
       "      <td>1000</td>\n",
       "      <td>20396.5916</td>\n",
       "      <td>MULTIPOLYGON (((547901.800 5276034.136, 547801...</td>\n",
       "    </tr>\n",
       "    <tr>\n",
       "      <th>2</th>\n",
       "      <td>3</td>\n",
       "      <td>530330116003013</td>\n",
       "      <td>Block</td>\n",
       "      <td>11600</td>\n",
       "      <td>67</td>\n",
       "      <td>1</td>\n",
       "      <td>0</td>\n",
       "      <td>1</td>\n",
       "      <td>3</td>\n",
       "      <td>4</td>\n",
       "      <td>...</td>\n",
       "      <td>60</td>\n",
       "      <td>0</td>\n",
       "      <td>0</td>\n",
       "      <td>1</td>\n",
       "      <td>0</td>\n",
       "      <td>0</td>\n",
       "      <td>1</td>\n",
       "      <td>6000</td>\n",
       "      <td>23669.5757</td>\n",
       "      <td>MULTIPOLYGON (((546330.740 5263601.521, 546329...</td>\n",
       "    </tr>\n",
       "  </tbody>\n",
       "</table>\n",
       "<p>3 rows × 24 columns</p>\n",
       "</div>"
      ],
      "text/plain": [
       "   OBJECTID          GEOID10 GEO_TYPE TRACT_10  Total_Population  \\\n",
       "0         1  530330067001001    Block     6700                38   \n",
       "1         2  530330069001009    Block     6900                90   \n",
       "2         3  530330116003013    Block    11600                67   \n",
       "\n",
       "   Female_under_5_years  Male_under_5_years  \\\n",
       "0                     0                   0   \n",
       "1                     4                   5   \n",
       "2                     1                   0   \n",
       "\n",
       "   Female_Person_of_Color_5_17_years  Male_Person_of_Color_5_17_years  \\\n",
       "0                                  0                                0   \n",
       "1                                  2                                2   \n",
       "2                                  1                                3   \n",
       "\n",
       "   Female_White_5_17_years  ...  Pop_Not_Hispanic_White_alone  \\\n",
       "0                        0  ...                            30   \n",
       "1                        7  ...                            76   \n",
       "2                        4  ...                            60   \n",
       "\n",
       "   Pop_Not_Hispanic_Black_or_African_American_alone  \\\n",
       "0                                                 0   \n",
       "1                                                 0   \n",
       "2                                                 0   \n",
       "\n",
       "   Pop_Not_Hispanic_American_Indian_and_Alaska_Native_alone  \\\n",
       "0                                                  0          \n",
       "1                                                  1          \n",
       "2                                                  0          \n",
       "\n",
       "   Pop_Not_Hispanic_Asian_alone  \\\n",
       "0                             2   \n",
       "1                             4   \n",
       "2                             1   \n",
       "\n",
       "   Pop_Not_Hispanic_Native_Hawaiian_and_Oth_Pacific_Islander_alone  \\\n",
       "0                                                  0                 \n",
       "1                                                  0                 \n",
       "2                                                  0                 \n",
       "\n",
       "   Pop_Not_Hispanic_Some_Other_Race_alone  Pop_Not_Hispanic_Two_or_More_Races  \\\n",
       "0                                       1                                   3   \n",
       "1                                       0                                   3   \n",
       "2                                       0                                   1   \n",
       "\n",
       "   mrb_dist  area_intersect                                           geometry  \n",
       "0      3000     121037.5710  MULTIPOLYGON (((549534.375 5275664.786, 549554...  \n",
       "1      1000      20396.5916  MULTIPOLYGON (((547901.800 5276034.136, 547801...  \n",
       "2      6000      23669.5757  MULTIPOLYGON (((546330.740 5263601.521, 546329...  \n",
       "\n",
       "[3 rows x 24 columns]"
      ]
     },
     "execution_count": 4,
     "metadata": {},
     "output_type": "execute_result"
    }
   ],
   "source": [
    "# Data is stored in a dictionary, just save it to a dataframe\n",
    "df = gpd.read_file(files[1])\n",
    "\n",
    "display(df.size) \n",
    "display(df.columns)\n",
    "\n",
    "col = ['Total_Population',\n",
    "       'Female_under_5_years', 'Male_under_5_years',\n",
    "       'Female_Person_of_Color_5_17_years', 'Male_Person_of_Color_5_17_years',\n",
    "       'Female_White_5_17_years', 'Male_White_5_17_years',\n",
    "       'Female_Age_65_and_over', 'Male_Age_65_and_over',\n",
    "       'Population_Hispanic_or_Latino', 'Pop_Not_Hispanic_White_alone',\n",
    "       'Pop_Not_Hispanic_Black_or_African_American_alone',\n",
    "       'Pop_Not_Hispanic_American_Indian_and_Alaska_Native_alone',\n",
    "       'Pop_Not_Hispanic_Asian_alone',\n",
    "       'Pop_Not_Hispanic_Native_Hawaiian_and_Oth_Pacific_Islander_alone',\n",
    "       'Pop_Not_Hispanic_Some_Other_Race_alone',\n",
    "       'Pop_Not_Hispanic_Two_or_More_Races']\n",
    "df[col] = df[col].astype(int)\n",
    "\n",
    "# for the age group variables, you'll have to convert from obj to int :(\n",
    "                           # mrb_dist is the field that indicated the \"level\" of the buffer\n",
    "                                # area_intersect is area in m squared per polygons.\n",
    "\n",
    "display(df.dtypes)     \n",
    "print('conversion tip: https://stackoverflow.com/questions/39173813/pandas-convert-dtype-object-to-int')\n",
    "df.head(3)"
   ]
  },
  {
   "cell_type": "markdown",
   "metadata": {},
   "source": [
    "## All I do is clean"
   ]
  },
  {
   "cell_type": "code",
   "execution_count": 7,
   "metadata": {},
   "outputs": [
    {
     "data": {
      "text/plain": [
       "1115"
      ]
     },
     "execution_count": 7,
     "metadata": {},
     "output_type": "execute_result"
    }
   ],
   "source": [
    "# GEOID10 is the unique Block id\n",
    "    # area_intersect is the area of intersected features\n",
    "        # we want to retain all of the unique GEOID10 which have the greatest area_intersect value\n",
    "\n",
    "# Let's see how many duplicates we have:\n",
    "len(df['GEOID10'])-len(df['GEOID10'].drop_duplicates())"
   ]
  },
  {
   "cell_type": "code",
   "execution_count": 5,
   "metadata": {},
   "outputs": [],
   "source": [
    "# The solution I found is...easy: https://stackoverflow.com/questions/12497402/python-pandas-remove-duplicates-by-columns-a-keeping-the-row-with-the-highest\n",
    "        # Sort area_intersect from descending values (low to high), and retain 'last', i.e. the ascending value.\n",
    "        \n",
    "df = df.sort_values('area_intersect', ascending=False).drop_duplicates('GEOID10').sort_index()"
   ]
  },
  {
   "cell_type": "code",
   "execution_count": 9,
   "metadata": {},
   "outputs": [
    {
     "data": {
      "text/plain": [
       "0"
      ]
     },
     "execution_count": 9,
     "metadata": {},
     "output_type": "execute_result"
    }
   ],
   "source": [
    "# No more duplicates!\n",
    "len(df['GEOID10'])-len(df['GEOID10'].drop_duplicates())"
   ]
  },
  {
   "cell_type": "markdown",
   "metadata": {},
   "source": [
    "# Red-Lining Intersection Analysis\n",
    "\n",
    "Here, instead of intersection Census Blocks with the PurpleAir's Buffer, I have *unioned* the Census Tracts with the borders of the HOLC Grading map.\n",
    "\n",
    "This enables us to see how a number of variables differ between different zoning grades; areas where holc_grade is NULL means that these areas where not included in the HOLC map (as an added reference of comparison).\n",
    "\n",
    "![](forJ_img/holc.PNG)"
   ]
  },
  {
   "cell_type": "code",
   "execution_count": 204,
   "metadata": {
    "scrolled": false
   },
   "outputs": [
    {
     "name": "stdout",
     "output_type": "stream",
     "text": [
      "conversion tip: https://stackoverflow.com/questions/39173813/pandas-convert-dtype-object-to-int\n"
     ]
    },
    {
     "data": {
      "text/html": [
       "<div>\n",
       "<style scoped>\n",
       "    .dataframe tbody tr th:only-of-type {\n",
       "        vertical-align: middle;\n",
       "    }\n",
       "\n",
       "    .dataframe tbody tr th {\n",
       "        vertical-align: top;\n",
       "    }\n",
       "\n",
       "    .dataframe thead th {\n",
       "        text-align: right;\n",
       "    }\n",
       "</style>\n",
       "<table border=\"1\" class=\"dataframe\">\n",
       "  <thead>\n",
       "    <tr style=\"text-align: right;\">\n",
       "      <th></th>\n",
       "      <th>OBJECTID</th>\n",
       "      <th>GEOID10</th>\n",
       "      <th>NAMELSAD10</th>\n",
       "      <th>PCT_PEOPLE_OF_COLOR</th>\n",
       "      <th>PTL_PEOPLE_OF_COLOR</th>\n",
       "      <th>PCT_ENGLISH_LESSTHAN_VERY_WELL</th>\n",
       "      <th>PTL_ENGLISH_LESSTHAN_VERY_WELL</th>\n",
       "      <th>PCT_FOREIGN_BORN</th>\n",
       "      <th>PTL_FOREIGN_BORN</th>\n",
       "      <th>PCT_POP_INC_UNDER_200_POVERTY</th>\n",
       "      <th>...</th>\n",
       "      <th>Male_White_5_17_years</th>\n",
       "      <th>Female_Age_65_and_over</th>\n",
       "      <th>Male_Age_65_and_over</th>\n",
       "      <th>holc_id</th>\n",
       "      <th>holc_grade</th>\n",
       "      <th>area_description_data</th>\n",
       "      <th>area_holc</th>\n",
       "      <th>area_union</th>\n",
       "      <th>area_pct</th>\n",
       "      <th>geometry</th>\n",
       "    </tr>\n",
       "  </thead>\n",
       "  <tbody>\n",
       "    <tr>\n",
       "      <th>0</th>\n",
       "      <td>1.0</td>\n",
       "      <td>53033005900</td>\n",
       "      <td>Census Tract 59</td>\n",
       "      <td>0.184537</td>\n",
       "      <td>0.241</td>\n",
       "      <td>0.013041</td>\n",
       "      <td>0.098</td>\n",
       "      <td>0.095335</td>\n",
       "      <td>0.241</td>\n",
       "      <td>0.195256</td>\n",
       "      <td>...</td>\n",
       "      <td>224</td>\n",
       "      <td>199</td>\n",
       "      <td>240</td>\n",
       "      <td>B11</td>\n",
       "      <td>B</td>\n",
       "      <td>{'1': 'This is the \"Queen Anne Hill\" district ...</td>\n",
       "      <td>3.878858e+06</td>\n",
       "      <td>792517.1533</td>\n",
       "      <td>20.4317</td>\n",
       "      <td>MULTIPOLYGON (((548001.150 5276862.448, 548001...</td>\n",
       "    </tr>\n",
       "    <tr>\n",
       "      <th>1</th>\n",
       "      <td>1.0</td>\n",
       "      <td>53033005900</td>\n",
       "      <td>Census Tract 59</td>\n",
       "      <td>0.184537</td>\n",
       "      <td>0.241</td>\n",
       "      <td>0.013041</td>\n",
       "      <td>0.098</td>\n",
       "      <td>0.095335</td>\n",
       "      <td>0.241</td>\n",
       "      <td>0.195256</td>\n",
       "      <td>...</td>\n",
       "      <td>224</td>\n",
       "      <td>199</td>\n",
       "      <td>240</td>\n",
       "      <td>C8</td>\n",
       "      <td>C</td>\n",
       "      <td>{'1': 'This district located on a steep side h...</td>\n",
       "      <td>1.178363e+06</td>\n",
       "      <td>413543.6118</td>\n",
       "      <td>35.0947</td>\n",
       "      <td>MULTIPOLYGON (((547052.434 5276555.074, 547047...</td>\n",
       "    </tr>\n",
       "    <tr>\n",
       "      <th>2</th>\n",
       "      <td>1.0</td>\n",
       "      <td>53033005900</td>\n",
       "      <td>Census Tract 59</td>\n",
       "      <td>0.184537</td>\n",
       "      <td>0.241</td>\n",
       "      <td>0.013041</td>\n",
       "      <td>0.098</td>\n",
       "      <td>0.095335</td>\n",
       "      <td>0.241</td>\n",
       "      <td>0.195256</td>\n",
       "      <td>...</td>\n",
       "      <td>224</td>\n",
       "      <td>199</td>\n",
       "      <td>240</td>\n",
       "      <td>C9</td>\n",
       "      <td>C</td>\n",
       "      <td>{'1': 'A blighted area with old homes generall...</td>\n",
       "      <td>2.961728e+05</td>\n",
       "      <td>124931.0107</td>\n",
       "      <td>42.1818</td>\n",
       "      <td>MULTIPOLYGON (((547997.260 5277533.225, 547997...</td>\n",
       "    </tr>\n",
       "  </tbody>\n",
       "</table>\n",
       "<p>3 rows × 53 columns</p>\n",
       "</div>"
      ],
      "text/plain": [
       "   OBJECTID      GEOID10       NAMELSAD10  PCT_PEOPLE_OF_COLOR  \\\n",
       "0       1.0  53033005900  Census Tract 59             0.184537   \n",
       "1       1.0  53033005900  Census Tract 59             0.184537   \n",
       "2       1.0  53033005900  Census Tract 59             0.184537   \n",
       "\n",
       "   PTL_PEOPLE_OF_COLOR  PCT_ENGLISH_LESSTHAN_VERY_WELL  \\\n",
       "0                0.241                        0.013041   \n",
       "1                0.241                        0.013041   \n",
       "2                0.241                        0.013041   \n",
       "\n",
       "   PTL_ENGLISH_LESSTHAN_VERY_WELL  PCT_FOREIGN_BORN  PTL_FOREIGN_BORN  \\\n",
       "0                           0.098          0.095335             0.241   \n",
       "1                           0.098          0.095335             0.241   \n",
       "2                           0.098          0.095335             0.241   \n",
       "\n",
       "   PCT_POP_INC_UNDER_200_POVERTY  ...  Male_White_5_17_years  \\\n",
       "0                       0.195256  ...                    224   \n",
       "1                       0.195256  ...                    224   \n",
       "2                       0.195256  ...                    224   \n",
       "\n",
       "   Female_Age_65_and_over  Male_Age_65_and_over  holc_id  holc_grade  \\\n",
       "0                     199                   240      B11           B   \n",
       "1                     199                   240       C8           C   \n",
       "2                     199                   240       C9           C   \n",
       "\n",
       "                               area_description_data     area_holc  \\\n",
       "0  {'1': 'This is the \"Queen Anne Hill\" district ...  3.878858e+06   \n",
       "1  {'1': 'This district located on a steep side h...  1.178363e+06   \n",
       "2  {'1': 'A blighted area with old homes generall...  2.961728e+05   \n",
       "\n",
       "    area_union  area_pct                                           geometry  \n",
       "0  792517.1533   20.4317  MULTIPOLYGON (((548001.150 5276862.448, 548001...  \n",
       "1  413543.6118   35.0947  MULTIPOLYGON (((547052.434 5276555.074, 547047...  \n",
       "2  124931.0107   42.1818  MULTIPOLYGON (((547997.260 5277533.225, 547997...  \n",
       "\n",
       "[3 rows x 53 columns]"
      ]
     },
     "execution_count": 204,
     "metadata": {},
     "output_type": "execute_result"
    }
   ],
   "source": [
    "# Data is stored in a dictionary, just save it to a dataframe\n",
    "\n",
    "\n",
    "#display(df_holc.shape)  # for the age group variables, you'll have to convert from obj to int :(\n",
    "                            # mrb_dist is the field that indicated the \"level\" of the buffer\n",
    "                                # area_intersect is area in m squared per polygons.\n",
    "print('conversion tip: https://stackoverflow.com/questions/39173813/pandas-convert-dtype-object-to-int')\n",
    "#'Male_under_5_years','Female_Person_of_Color_5_17_years','Male_Person_of_Color_5_17_years','Female_White_5_17_years','Male_White_5_17_years','Female_Age_65_and_over','Male_Age_65_and_over'\n",
    "#df_holc.dropna()\n",
    "df_holc['Female_under_5_years'].astype(int)\n",
    "#display(df_holc.dtypes)\n",
    "df_holc.head(3)"
   ]
  },
  {
   "cell_type": "code",
   "execution_count": 10,
   "metadata": {},
   "outputs": [
    {
     "data": {
      "image/png": "[encoded data removed]",
      "text/plain": [
       "<Figure size 432x288 with 1 Axes>"
      ]
     },
     "metadata": {
      "needs_background": "light"
     },
     "output_type": "display_data"
    }
   ],
   "source": [
    "import matplotlib.pyplot as plt\n",
    "\n",
    "fig, ax = plt.subplots()\n",
    "\n",
    "df_holc.plot(ax=ax, facecolor='none', edgecolor='blue');\n",
    "\n",
    "plt.tight_layout();"
   ]
  },
  {
   "cell_type": "markdown",
   "metadata": {},
   "source": [
    "## Wrangling duplicates:\n",
    "\n",
    "Now, similar to the issue of duplication with buffer boundaries, we want to drop duplicates at the boundaries of the zoning map. I am taking one extra step: \n",
    "\n",
    "* I calculated the area (m^2) for each HOLC zones.\n",
    "* Once I unioned both layers, which created new polygons due to the HOLC boundaries, I re-calculated the area for all features.\n",
    "* Wanting to retain the Tract whose area \"falls the most\" within the area of the HOLC zone (remember, a single Census Tract may overlap several HOLC zones), to avoid duplication of data, I dropped all duplicates, retaining the feature that is proportionally the largest within the HOLC boundary (area_pct = area of unioned polygons / area of HOLC). "
   ]
  },
  {
   "cell_type": "markdown",
   "metadata": {},
   "source": [
    "## Here we drop the duplicate features created when I unioned both layers"
   ]
  },
  {
   "cell_type": "code",
   "execution_count": 22,
   "metadata": {},
   "outputs": [
    {
     "data": {
      "text/plain": [
       "263"
      ]
     },
     "execution_count": 22,
     "metadata": {},
     "output_type": "execute_result"
    }
   ],
   "source": [
    "len(df_holc['NAMELSAD10'])-len(df_holc['NAMELSAD10'].drop_duplicates()) # Census Tract Duplicates  "
   ]
  },
  {
   "cell_type": "code",
   "execution_count": 6,
   "metadata": {},
   "outputs": [],
   "source": [
    "df_holc1 = df_holc.sort_values('area_union', ascending=False).drop_duplicates('GEOID10').sort_index()\n",
    "\n",
    "# df_holc1 = df_holc1[(~df_holc1['GEOID10'].duplicated()) | df_holc1['area_pct'].isna()]"
   ]
  },
  {
   "cell_type": "markdown",
   "metadata": {},
   "source": [
    "### Observe the change due to dropping duplicate features."
   ]
  },
  {
   "cell_type": "code",
   "execution_count": 24,
   "metadata": {},
   "outputs": [
    {
     "data": {
      "text/plain": [
       "(135, 53)"
      ]
     },
     "metadata": {},
     "output_type": "display_data"
    },
    {
     "data": {
      "text/plain": [
       "0"
      ]
     },
     "execution_count": 24,
     "metadata": {},
     "output_type": "execute_result"
    }
   ],
   "source": [
    "display(df_holc1.shape) \n",
    "len(df_holc1['NAMELSAD10'])-len(df_holc1['NAMELSAD10'].drop_duplicates())"
   ]
  },
  {
   "cell_type": "code",
   "execution_count": 7,
   "metadata": {},
   "outputs": [
    {
     "data": {
      "text/html": [
       "<div>\n",
       "<style scoped>\n",
       "    .dataframe tbody tr th:only-of-type {\n",
       "        vertical-align: middle;\n",
       "    }\n",
       "\n",
       "    .dataframe tbody tr th {\n",
       "        vertical-align: top;\n",
       "    }\n",
       "\n",
       "    .dataframe thead th {\n",
       "        text-align: right;\n",
       "    }\n",
       "</style>\n",
       "<table border=\"1\" class=\"dataframe\">\n",
       "  <thead>\n",
       "    <tr style=\"text-align: right;\">\n",
       "      <th></th>\n",
       "      <th>holc_grade</th>\n",
       "      <th>PCT_ADULT_WITH_ASTHMA</th>\n",
       "    </tr>\n",
       "  </thead>\n",
       "  <tbody>\n",
       "    <tr>\n",
       "      <th>0</th>\n",
       "      <td>A</td>\n",
       "      <td>0.081500</td>\n",
       "    </tr>\n",
       "    <tr>\n",
       "      <th>1</th>\n",
       "      <td>B</td>\n",
       "      <td>0.087675</td>\n",
       "    </tr>\n",
       "    <tr>\n",
       "      <th>2</th>\n",
       "      <td>C</td>\n",
       "      <td>0.091800</td>\n",
       "    </tr>\n",
       "    <tr>\n",
       "      <th>3</th>\n",
       "      <td>D</td>\n",
       "      <td>0.094471</td>\n",
       "    </tr>\n",
       "  </tbody>\n",
       "</table>\n",
       "</div>"
      ],
      "text/plain": [
       "  holc_grade  PCT_ADULT_WITH_ASTHMA\n",
       "0          A               0.081500\n",
       "1          B               0.087675\n",
       "2          C               0.091800\n",
       "3          D               0.094471"
      ]
     },
     "execution_count": 7,
     "metadata": {},
     "output_type": "execute_result"
    }
   ],
   "source": [
    "asthma = df_holc1[['PCT_ADULT_WITH_ASTHMA', 'holc_grade']]\n",
    "asthma = asthma.groupby('holc_grade').mean()\n",
    "asthma = asthma.reset_index()\n",
    "asthma"
   ]
  },
  {
   "cell_type": "code",
   "execution_count": 14,
   "metadata": {},
   "outputs": [
    {
     "data": {
      "text/html": [
       "<div>\n",
       "<style scoped>\n",
       "    .dataframe tbody tr th:only-of-type {\n",
       "        vertical-align: middle;\n",
       "    }\n",
       "\n",
       "    .dataframe tbody tr th {\n",
       "        vertical-align: top;\n",
       "    }\n",
       "\n",
       "    .dataframe thead th {\n",
       "        text-align: right;\n",
       "    }\n",
       "</style>\n",
       "<table border=\"1\" class=\"dataframe\">\n",
       "  <thead>\n",
       "    <tr style=\"text-align: right;\">\n",
       "      <th></th>\n",
       "      <th>OBJECTID</th>\n",
       "      <th>GEOID10</th>\n",
       "      <th>NAMELSAD10</th>\n",
       "      <th>PCT_PEOPLE_OF_COLOR</th>\n",
       "      <th>PTL_PEOPLE_OF_COLOR</th>\n",
       "      <th>PCT_ENGLISH_LESSTHAN_VERY_WELL</th>\n",
       "      <th>PTL_ENGLISH_LESSTHAN_VERY_WELL</th>\n",
       "      <th>PCT_FOREIGN_BORN</th>\n",
       "      <th>PTL_FOREIGN_BORN</th>\n",
       "      <th>PCT_POP_INC_UNDER_200_POVERTY</th>\n",
       "      <th>...</th>\n",
       "      <th>Male_White_5_17_years</th>\n",
       "      <th>Female_Age_65_and_over</th>\n",
       "      <th>Male_Age_65_and_over</th>\n",
       "      <th>holc_id</th>\n",
       "      <th>holc_grade</th>\n",
       "      <th>area_description_data</th>\n",
       "      <th>area_holc</th>\n",
       "      <th>area_union</th>\n",
       "      <th>area_pct</th>\n",
       "      <th>geometry</th>\n",
       "    </tr>\n",
       "  </thead>\n",
       "  <tbody>\n",
       "    <tr>\n",
       "      <th>0</th>\n",
       "      <td>1.0</td>\n",
       "      <td>53033005900</td>\n",
       "      <td>Census Tract 59</td>\n",
       "      <td>0.184537</td>\n",
       "      <td>0.241</td>\n",
       "      <td>0.013041</td>\n",
       "      <td>0.098</td>\n",
       "      <td>0.095335</td>\n",
       "      <td>0.241</td>\n",
       "      <td>0.195256</td>\n",
       "      <td>...</td>\n",
       "      <td>224</td>\n",
       "      <td>199</td>\n",
       "      <td>240</td>\n",
       "      <td>B11</td>\n",
       "      <td>B</td>\n",
       "      <td>{'1': 'This is the \"Queen Anne Hill\" district ...</td>\n",
       "      <td>3.878858e+06</td>\n",
       "      <td>7.925172e+05</td>\n",
       "      <td>20.4317</td>\n",
       "      <td>MULTIPOLYGON (((548001.150 5276862.448, 548001...</td>\n",
       "    </tr>\n",
       "    <tr>\n",
       "      <th>7</th>\n",
       "      <td>5.0</td>\n",
       "      <td>53033004100</td>\n",
       "      <td>Census Tract 41</td>\n",
       "      <td>0.164442</td>\n",
       "      <td>0.158</td>\n",
       "      <td>0.045527</td>\n",
       "      <td>0.519</td>\n",
       "      <td>0.150340</td>\n",
       "      <td>0.549</td>\n",
       "      <td>0.118621</td>\n",
       "      <td>...</td>\n",
       "      <td>616</td>\n",
       "      <td>592</td>\n",
       "      <td>555</td>\n",
       "      <td>A3</td>\n",
       "      <td>A</td>\n",
       "      <td>{'1': 'This area is one of the most popular re...</td>\n",
       "      <td>1.083601e+06</td>\n",
       "      <td>1.066311e+06</td>\n",
       "      <td>98.4044</td>\n",
       "      <td>MULTIPOLYGON (((553577.135 5278365.104, 553579...</td>\n",
       "    </tr>\n",
       "    <tr>\n",
       "      <th>11</th>\n",
       "      <td>6.0</td>\n",
       "      <td>53033005000</td>\n",
       "      <td>Census Tract 50</td>\n",
       "      <td>0.190026</td>\n",
       "      <td>0.256</td>\n",
       "      <td>0.030799</td>\n",
       "      <td>0.361</td>\n",
       "      <td>0.113123</td>\n",
       "      <td>0.346</td>\n",
       "      <td>0.207874</td>\n",
       "      <td>...</td>\n",
       "      <td>94</td>\n",
       "      <td>79</td>\n",
       "      <td>189</td>\n",
       "      <td>B3</td>\n",
       "      <td>B</td>\n",
       "      <td>{'1': 'This area is known as the Wallingford\",...</td>\n",
       "      <td>6.844266e+06</td>\n",
       "      <td>7.568218e+05</td>\n",
       "      <td>11.0578</td>\n",
       "      <td>MULTIPOLYGON (((549820.348 5279284.597, 549820...</td>\n",
       "    </tr>\n",
       "    <tr>\n",
       "      <th>12</th>\n",
       "      <td>7.0</td>\n",
       "      <td>53033004302</td>\n",
       "      <td>Census Tract 43.02</td>\n",
       "      <td>0.428609</td>\n",
       "      <td>0.737</td>\n",
       "      <td>0.168306</td>\n",
       "      <td>0.828</td>\n",
       "      <td>0.327636</td>\n",
       "      <td>0.880</td>\n",
       "      <td>0.651979</td>\n",
       "      <td>...</td>\n",
       "      <td>3</td>\n",
       "      <td>11</td>\n",
       "      <td>151</td>\n",
       "      <td>B4</td>\n",
       "      <td>B</td>\n",
       "      <td>{'1': 'This is the \"University\" district. Home...</td>\n",
       "      <td>8.290899e+05</td>\n",
       "      <td>2.290753e+05</td>\n",
       "      <td>27.6297</td>\n",
       "      <td>MULTIPOLYGON (((552416.863 5278886.610, 552414...</td>\n",
       "    </tr>\n",
       "    <tr>\n",
       "      <th>15</th>\n",
       "      <td>9.0</td>\n",
       "      <td>53033007500</td>\n",
       "      <td>Census Tract 75</td>\n",
       "      <td>0.290809</td>\n",
       "      <td>0.519</td>\n",
       "      <td>0.039026</td>\n",
       "      <td>0.459</td>\n",
       "      <td>0.134555</td>\n",
       "      <td>0.474</td>\n",
       "      <td>0.263000</td>\n",
       "      <td>...</td>\n",
       "      <td>35</td>\n",
       "      <td>26</td>\n",
       "      <td>180</td>\n",
       "      <td>C11</td>\n",
       "      <td>C</td>\n",
       "      <td>{'1': 'This is a \"Twilight\" zone.'}</td>\n",
       "      <td>1.938776e+06</td>\n",
       "      <td>5.785943e+05</td>\n",
       "      <td>29.8433</td>\n",
       "      <td>MULTIPOLYGON (((551039.454 5273833.807, 551038...</td>\n",
       "    </tr>\n",
       "  </tbody>\n",
       "</table>\n",
       "<p>5 rows × 53 columns</p>\n",
       "</div>"
      ],
      "text/plain": [
       "    OBJECTID      GEOID10          NAMELSAD10  PCT_PEOPLE_OF_COLOR  \\\n",
       "0        1.0  53033005900     Census Tract 59             0.184537   \n",
       "7        5.0  53033004100     Census Tract 41             0.164442   \n",
       "11       6.0  53033005000     Census Tract 50             0.190026   \n",
       "12       7.0  53033004302  Census Tract 43.02             0.428609   \n",
       "15       9.0  53033007500     Census Tract 75             0.290809   \n",
       "\n",
       "    PTL_PEOPLE_OF_COLOR  PCT_ENGLISH_LESSTHAN_VERY_WELL  \\\n",
       "0                 0.241                        0.013041   \n",
       "7                 0.158                        0.045527   \n",
       "11                0.256                        0.030799   \n",
       "12                0.737                        0.168306   \n",
       "15                0.519                        0.039026   \n",
       "\n",
       "    PTL_ENGLISH_LESSTHAN_VERY_WELL  PCT_FOREIGN_BORN  PTL_FOREIGN_BORN  \\\n",
       "0                            0.098          0.095335             0.241   \n",
       "7                            0.519          0.150340             0.549   \n",
       "11                           0.361          0.113123             0.346   \n",
       "12                           0.828          0.327636             0.880   \n",
       "15                           0.459          0.134555             0.474   \n",
       "\n",
       "    PCT_POP_INC_UNDER_200_POVERTY  ...  Male_White_5_17_years  \\\n",
       "0                        0.195256  ...                    224   \n",
       "7                        0.118621  ...                    616   \n",
       "11                       0.207874  ...                     94   \n",
       "12                       0.651979  ...                      3   \n",
       "15                       0.263000  ...                     35   \n",
       "\n",
       "    Female_Age_65_and_over  Male_Age_65_and_over  holc_id  holc_grade  \\\n",
       "0                      199                   240      B11           B   \n",
       "7                      592                   555       A3           A   \n",
       "11                      79                   189       B3           B   \n",
       "12                      11                   151       B4           B   \n",
       "15                      26                   180      C11           C   \n",
       "\n",
       "                                area_description_data     area_holc  \\\n",
       "0   {'1': 'This is the \"Queen Anne Hill\" district ...  3.878858e+06   \n",
       "7   {'1': 'This area is one of the most popular re...  1.083601e+06   \n",
       "11  {'1': 'This area is known as the Wallingford\",...  6.844266e+06   \n",
       "12  {'1': 'This is the \"University\" district. Home...  8.290899e+05   \n",
       "15                {'1': 'This is a \"Twilight\" zone.'}  1.938776e+06   \n",
       "\n",
       "      area_union  area_pct                                           geometry  \n",
       "0   7.925172e+05   20.4317  MULTIPOLYGON (((548001.150 5276862.448, 548001...  \n",
       "7   1.066311e+06   98.4044  MULTIPOLYGON (((553577.135 5278365.104, 553579...  \n",
       "11  7.568218e+05   11.0578  MULTIPOLYGON (((549820.348 5279284.597, 549820...  \n",
       "12  2.290753e+05   27.6297  MULTIPOLYGON (((552416.863 5278886.610, 552414...  \n",
       "15  5.785943e+05   29.8433  MULTIPOLYGON (((551039.454 5273833.807, 551038...  \n",
       "\n",
       "[5 rows x 53 columns]"
      ]
     },
     "execution_count": 14,
     "metadata": {},
     "output_type": "execute_result"
    }
   ],
   "source": [
    "df_holc1.head()"
   ]
  },
  {
   "cell_type": "code",
   "execution_count": 15,
   "metadata": {
    "scrolled": false
   },
   "outputs": [
    {
     "data": {
      "image/png": "[encoded data removed]",
      "text/plain": [
       "<Figure size 432x288 with 1 Axes>"
      ]
     },
     "metadata": {
      "needs_background": "light"
     },
     "output_type": "display_data"
    }
   ],
   "source": [
    "import matplotlib.pyplot as plt\n",
    "\n",
    "fig, ax = plt.subplots()\n",
    "\n",
    "df_holc1.plot(ax=ax, facecolor='none', edgecolor='blue');\n",
    "\n",
    "plt.tight_layout();"
   ]
  },
  {
   "cell_type": "markdown",
   "metadata": {},
   "source": [
    "It looks a bit weird if you compare it to the base layer of the U.S. Census Tract (image below), but remember: the Tracts were chopped by the boundaries of the HOLC, so they did not retain their original shape. What we do retain is the original number of Tracts, so that the data for each Tract is represented only once.\n",
    "\n",
    "![](forJ_img/censusTracts.PNG)"
   ]
  },
  {
   "cell_type": "markdown",
   "metadata": {},
   "source": [
    "# Data Visualization/Summary time\n",
    "\n",
    "I really felt like I had to clean-up my mess...\n",
    "\n",
    "<b>Important</b>: You are working with population counts only, so keep that in mind. There's a column that has the total population for the Census Block; you could always use that as a means to normalize the data. I'll let you handle how to represent the demographic profile for the groups above.\n",
    "\n",
    "Now, a thing you might think to yourself: \"that's it? What gives? Where are income groups, educational attainment etc etc\" \n",
    "Take those complaints to the U.S. Census Bureau. They only have Block-level data for a limited number of variables for the 2010 Census. I could have used a Block-group from a survey, but trust me when I say: \"they don't make it easy to get data from their piece of shtz website\".\n",
    "\n",
    "I also sincerely think that this is well enough for our purposes. Below are relevant stats as to why these groups are included here. \n",
    "\n",
    "Plus we have some additional variables at the U.S. Census Tract level that we'll use for the profile of the Red-line districts.\n",
    "\n",
    "### Demographic trends and air pollution (references in forJ_refs folder)\n",
    "\n",
    "* US Census Blocks\tRace & Age\tMale, PoC, 5-17 years \"8.45 % (WA average of all non-white groups from 140-185-AsthmaBRFSSdata.pdf p. 4) King County: 8,5 % (average for all non-white groups from Appendix-Chronic-Illness.pdf p. 10)\" \"Black children have the higest percentage of asthma (12%) compared to other racial groups.\n",
    "\n",
    "* US Census Blocks\tRace & Age\tFemale, PoC, 5-17 years \"8.45 % (WA average of all non-white groups from 140-185-AsthmaBRFSSdata.pdf p. 4) King County: 8,5 % (average for all non-white groups from Appendix-Chronic-Illness.pdf p. 10)\" \"Black children have the higest percentage of asthma (12%) compared to other racial groups.\n",
    "\n",
    "* US Census Blocks\tRace & Age\tMale, White, 5-17 years \"6.2 % (WA Avg 140-185-AsthmaBRFSSdata.pdf p. 4) King County: 6% (whites only from Appendix-Chronic-Illness.pdf p. 10)\"\n",
    "\n",
    "* US Census Blocks\tRace & Age\tFemale, White, 5-17 years \"6.2 % (WA Avg 140-185-AsthmaBRFSSdata.pdf p. 4) King County: 6% (whites only from Appendix-Chronic-Illness.pdf p. 10)\"\n",
    "\n",
    "* US Census Blocks\tRace & Age\tMale under 5 years, Hospitalization due to asthma per 100K: 261 (345-304-AsthmaInWashingtonState.pdf p. 3) \"Children younger than 5 account for a fifth of the hospitalizations for asthma in the state, with boys more likely to be hospitalized than girls.\"\n",
    "\n",
    "* US Census Blocks\tRace & Age\tFemales under 5 years, Hospitalization due to asthma per 100K: 151 (345-304-AsthmaInWashingtonState.pdf p. 3)\n",
    "\n",
    "* US Census Blocks\tRace & Age\tMale above 65 years, Hospitalization due to asthma per 100K: 57 (345-304-AsthmaInWashingtonState.pdf p. 3)\n",
    "\n",
    "* US Census Blocks\tRace & Age\tFemales above 65 years, Hospitalization due to asthma per 100K: 122 (345-304-AsthmaInWashingtonState.pdf p. 3)\n",
    "\n",
    "* US Census Tract\tRace & Age\tPersons of color (% of Census tract Pop) \"11.01 % (WA average of all non-white groups from 140-185-AsthmaBRFSSdata.pdf p. 4) King County: 9.6 % (average of all non-white groups from Appendix-Chronic-Illness.pdf  p. 2)\"\tWashington state\thttps://data.seattle.gov/Land-Base/Racial-and-Social-Equity-Composite-Index/q9y2-kzsi\t\"In Washington state, non-Hispanic American Indian and Alaska Native adults, and black children report higher asthma rates than other racial or ethnic groups. Asian, white, and Hispanic adults and children report lower asthma rates than other groups.\"\n",
    "\n",
    "* US Census Blocks\tRace & Age\tWhite Population Density \"10.2% WA avg (140-185-AsthmaBRFSSdata.pdf p. 4) King County: 10 % (average of all non-white groups from Appendix-Chronic-Illness.pdf  p. 2)\"\n",
    "\n",
    "* US Census Blocks\tRace & Age\tBlack Population Density \"10.8% WA avg (140-185-AsthmaBRFSSdata.pdf p. 4)\t\n",
    "\n",
    "* US Census Blocks\tRace & Age\tLatino Population Density 7.2% WA avg (140-185-AsthmaBRFSSdata.pdf p. 4)\t\n",
    "\n",
    "* US Census Blocks\tRace & Age\tNative American Population Density 17% WA avg (140-185-AsthmaBRFSSdata.pdf p. 4)\n",
    "\n",
    "* US Census Blocks\tRace & Age\tAsian Population Density 4.5% WA avg (140-185-AsthmaBRFSSdata.pdf p. 4)"
   ]
  },
  {
   "cell_type": "code",
   "execution_count": null,
   "metadata": {},
   "outputs": [],
   "source": [
    "# Your goal is to create demographic profiles for each buffer level, \n",
    "# and create one or many visualizations to show trends. \n",
    "\n",
    "# Now: what if there is really no discernable trends? It's really seems to be all randomly distributed?\n",
    "    # That's a fair point to notice and an insight in itself.\n",
    "        # I can always add a smaller buffer (that's something I can do under 5 min.)"
   ]
  },
  {
   "cell_type": "markdown",
   "metadata": {},
   "source": [
    "### Red-Lining Trends"
   ]
  },
  {
   "cell_type": "markdown",
   "metadata": {},
   "source": [
    "Same concept, except you're comparing between HOLC graded areas; you can reuse the same demographic data grouped at the Census Tract level, in addition to variables from the [Racial and Social Equity Composite Index](https://data.seattle.gov/Land-Base/Racial-and-Social-Equity-Composite-Index/q9y2-kzsi) like percentage of adults affected with asthma, poverty level etc."
   ]
  },
  {
   "cell_type": "code",
   "execution_count": 8,
   "metadata": {},
   "outputs": [],
   "source": [
    "# get the frames\n",
    "test = df.groupby(['mrb_dist']).sum()"
   ]
  },
  {
   "cell_type": "code",
   "execution_count": 14,
   "metadata": {},
   "outputs": [],
   "source": [
    "test= test.reset_index()\n",
    "test = test.rename(columns = {'Pop_Not_Hispanic_Native_Hawaiian_and_Oth_Pacific_Islander_alone':'Native_Hawaiian\\Pacific_Islander','Pop_Not_Hispanic_American_Indian_and_Alaska_Native_alone':'American_Indian/Alaska_Native','Population_Hispanic_or_Latino':'Hispanic/Latino', 'Pop_Not_Hispanic_Black_or_African_American_alone':'Black/African_American', 'Pop_Not_Hispanic_Asian_alone':'Asian', 'Pop_Not_Hispanic_White_alone':'White'})"
   ]
  },
  {
   "cell_type": "code",
   "execution_count": 16,
   "metadata": {},
   "outputs": [
    {
     "data": {
      "text/html": [
       "<div>\n",
       "<style scoped>\n",
       "    .dataframe tbody tr th:only-of-type {\n",
       "        vertical-align: middle;\n",
       "    }\n",
       "\n",
       "    .dataframe tbody tr th {\n",
       "        vertical-align: top;\n",
       "    }\n",
       "\n",
       "    .dataframe thead th {\n",
       "        text-align: right;\n",
       "    }\n",
       "</style>\n",
       "<table border=\"1\" class=\"dataframe\">\n",
       "  <thead>\n",
       "    <tr style=\"text-align: right;\">\n",
       "      <th></th>\n",
       "      <th>Hispanic/Latino</th>\n",
       "      <th>White</th>\n",
       "      <th>Black/African_American</th>\n",
       "      <th>American_Indian/Alaska_Native</th>\n",
       "      <th>Asian</th>\n",
       "      <th>Native_Hawaiian\\Pacific_Islander</th>\n",
       "      <th>mrb_dist</th>\n",
       "    </tr>\n",
       "  </thead>\n",
       "  <tbody>\n",
       "    <tr>\n",
       "      <th>0</th>\n",
       "      <td>0.013227</td>\n",
       "      <td>0.198795</td>\n",
       "      <td>0.012630</td>\n",
       "      <td>0.001484</td>\n",
       "      <td>0.020970</td>\n",
       "      <td>0.000488</td>\n",
       "      <td>1000</td>\n",
       "    </tr>\n",
       "    <tr>\n",
       "      <th>1</th>\n",
       "      <td>0.034340</td>\n",
       "      <td>0.341577</td>\n",
       "      <td>0.042192</td>\n",
       "      <td>0.003245</td>\n",
       "      <td>0.080853</td>\n",
       "      <td>0.001957</td>\n",
       "      <td>2000</td>\n",
       "    </tr>\n",
       "    <tr>\n",
       "      <th>2</th>\n",
       "      <td>0.018706</td>\n",
       "      <td>0.124093</td>\n",
       "      <td>0.021823</td>\n",
       "      <td>0.001658</td>\n",
       "      <td>0.034871</td>\n",
       "      <td>0.001209</td>\n",
       "      <td>3000</td>\n",
       "    </tr>\n",
       "  </tbody>\n",
       "</table>\n",
       "</div>"
      ],
      "text/plain": [
       "   Hispanic/Latino     White  Black/African_American  \\\n",
       "0         0.013227  0.198795                0.012630   \n",
       "1         0.034340  0.341577                0.042192   \n",
       "2         0.018706  0.124093                0.021823   \n",
       "\n",
       "   American_Indian/Alaska_Native     Asian  Native_Hawaiian\\Pacific_Islander  \\\n",
       "0                       0.001484  0.020970                          0.000488   \n",
       "1                       0.003245  0.080853                          0.001957   \n",
       "2                       0.001658  0.034871                          0.001209   \n",
       "\n",
       "  mrb_dist  \n",
       "0     1000  \n",
       "1     2000  \n",
       "2     3000  "
      ]
     },
     "execution_count": 16,
     "metadata": {},
     "output_type": "execute_result"
    }
   ],
   "source": [
    "foo = test[['mrb_dist','Hispanic/Latino','White', 'Black/African_American', 'American_Indian/Alaska_Native', 'Asian', 'Native_Hawaiian\\Pacific_Islander' ]]\n",
    "foo = foo[['Hispanic/Latino','White', 'Black/African_American', 'American_Indian/Alaska_Native', 'Asian', 'Native_Hawaiian\\Pacific_Islander']].apply(lambda x: x/602389.0)\n",
    "foo['mrb_dist'] = ['1000', '2000', '3000']\n",
    "foo"
   ]
  },
  {
   "cell_type": "code",
   "execution_count": 17,
   "metadata": {},
   "outputs": [],
   "source": [
    "# the following are sums of the miniority populations for each buffer zone\n",
    "mrb_1000 = 0.013227+0.012630+0.001484+0.020970+0.000488\n",
    "mrb_3000 = 0.034340+0.042192+0.003245+0.080853+0.001957\n",
    "mrb_6000 = 0.018706+0.021823+0.001658+0.034871+0.001209\n",
    "lists = [mrb_1000,mrb_3000,mrb_6000]\n",
    "lists2 = [1000,3000,6000]"
   ]
  },
  {
   "cell_type": "code",
   "execution_count": 19,
   "metadata": {},
   "outputs": [
    {
     "data": {
      "text/html": [
       "<div>\n",
       "<style scoped>\n",
       "    .dataframe tbody tr th:only-of-type {\n",
       "        vertical-align: middle;\n",
       "    }\n",
       "\n",
       "    .dataframe tbody tr th {\n",
       "        vertical-align: top;\n",
       "    }\n",
       "\n",
       "    .dataframe thead th {\n",
       "        text-align: right;\n",
       "    }\n",
       "</style>\n",
       "<table border=\"1\" class=\"dataframe\">\n",
       "  <thead>\n",
       "    <tr style=\"text-align: right;\">\n",
       "      <th></th>\n",
       "      <th>mrb_dist</th>\n",
       "      <th>People of Color</th>\n",
       "      <th>White</th>\n",
       "    </tr>\n",
       "  </thead>\n",
       "  <tbody>\n",
       "    <tr>\n",
       "      <th>0</th>\n",
       "      <td>1000</td>\n",
       "      <td>0.048799</td>\n",
       "      <td>0.198795</td>\n",
       "    </tr>\n",
       "    <tr>\n",
       "      <th>1</th>\n",
       "      <td>3000</td>\n",
       "      <td>0.162587</td>\n",
       "      <td>0.341577</td>\n",
       "    </tr>\n",
       "    <tr>\n",
       "      <th>2</th>\n",
       "      <td>6000</td>\n",
       "      <td>0.078267</td>\n",
       "      <td>0.124093</td>\n",
       "    </tr>\n",
       "  </tbody>\n",
       "</table>\n",
       "</div>"
      ],
      "text/plain": [
       "   mrb_dist  People of Color     White\n",
       "0      1000         0.048799  0.198795\n",
       "1      3000         0.162587  0.341577\n",
       "2      6000         0.078267  0.124093"
      ]
     },
     "execution_count": 19,
     "metadata": {},
     "output_type": "execute_result"
    }
   ],
   "source": [
    "Tot_minori = pd.DataFrame()\n",
    "Tot_minori['mrb_dist'] = lists2\n",
    "Tot_minori['People of Color'] = lists\n",
    "Tot_minori['White'] = foo['White']\n",
    "Tot_minori"
   ]
  },
  {
   "cell_type": "code",
   "execution_count": 47,
   "metadata": {},
   "outputs": [
    {
     "data": {
      "text/html": [
       "<div>\n",
       "<style scoped>\n",
       "    .dataframe tbody tr th:only-of-type {\n",
       "        vertical-align: middle;\n",
       "    }\n",
       "\n",
       "    .dataframe tbody tr th {\n",
       "        vertical-align: top;\n",
       "    }\n",
       "\n",
       "    .dataframe thead th {\n",
       "        text-align: right;\n",
       "    }\n",
       "</style>\n",
       "<table border=\"1\" class=\"dataframe\">\n",
       "  <thead>\n",
       "    <tr style=\"text-align: right;\">\n",
       "      <th></th>\n",
       "      <th>Hispanic/Latino</th>\n",
       "      <th>White</th>\n",
       "      <th>Black/African_American</th>\n",
       "      <th>American_Indian/Alaska_Native</th>\n",
       "      <th>Asian</th>\n",
       "      <th>Native_Hawaiian\\Pacific_Islander</th>\n",
       "      <th>mrb_dist</th>\n",
       "    </tr>\n",
       "  </thead>\n",
       "  <tbody>\n",
       "    <tr>\n",
       "      <th>0</th>\n",
       "      <td>0.013227</td>\n",
       "      <td>0.198795</td>\n",
       "      <td>0.012630</td>\n",
       "      <td>0.001484</td>\n",
       "      <td>0.020970</td>\n",
       "      <td>0.000488</td>\n",
       "      <td>1000</td>\n",
       "    </tr>\n",
       "    <tr>\n",
       "      <th>1</th>\n",
       "      <td>0.034340</td>\n",
       "      <td>0.341577</td>\n",
       "      <td>0.042192</td>\n",
       "      <td>0.003245</td>\n",
       "      <td>0.080853</td>\n",
       "      <td>0.001957</td>\n",
       "      <td>3000</td>\n",
       "    </tr>\n",
       "    <tr>\n",
       "      <th>2</th>\n",
       "      <td>0.018706</td>\n",
       "      <td>0.124093</td>\n",
       "      <td>0.021823</td>\n",
       "      <td>0.001658</td>\n",
       "      <td>0.034871</td>\n",
       "      <td>0.001209</td>\n",
       "      <td>6000</td>\n",
       "    </tr>\n",
       "  </tbody>\n",
       "</table>\n",
       "</div>"
      ],
      "text/plain": [
       "   Hispanic/Latino     White  Black/African_American  \\\n",
       "0         0.013227  0.198795                0.012630   \n",
       "1         0.034340  0.341577                0.042192   \n",
       "2         0.018706  0.124093                0.021823   \n",
       "\n",
       "   American_Indian/Alaska_Native     Asian  Native_Hawaiian\\Pacific_Islander  \\\n",
       "0                       0.001484  0.020970                          0.000488   \n",
       "1                       0.003245  0.080853                          0.001957   \n",
       "2                       0.001658  0.034871                          0.001209   \n",
       "\n",
       "   mrb_dist  \n",
       "0      1000  \n",
       "1      3000  \n",
       "2      6000  "
      ]
     },
     "execution_count": 47,
     "metadata": {},
     "output_type": "execute_result"
    }
   ],
   "source": [
    "foo['mrb_dist'] = Tot_minori['mrb_dist']\n",
    "foo"
   ]
  },
  {
   "cell_type": "code",
   "execution_count": 38,
   "metadata": {},
   "outputs": [
    {
     "data": {
      "text/plain": [
       "Text(0.5, 1.0, 'Demographic Profile for each Buffer Zone')"
      ]
     },
     "execution_count": 38,
     "metadata": {},
     "output_type": "execute_result"
    },
    {
     "data": {
      "image/png": "[encoded data removed]",
      "text/plain": [
       "<Figure size 432x288 with 1 Axes>"
      ]
     },
     "metadata": {
      "needs_background": "light"
     },
     "output_type": "display_data"
    }
   ],
   "source": [
    "Tot_minori.plot(x='mrb_dist', y=['White','People of Color'], kind=\"bar\")\n",
    "plt.legend(loc='center left', bbox_to_anchor=(1.0, 0.5))\n",
    "plt.xlabel('Distance from Air Monitor (meters)')\n",
    "plt.ylabel('Percentage of total population')\n",
    "plt.title('Demographic Profile for each Buffer Zone')"
   ]
  },
  {
   "cell_type": "code",
   "execution_count": 48,
   "metadata": {},
   "outputs": [
    {
     "data": {
      "text/plain": [
       "Text(0.5, 1.0, 'Demographic Profile for each Buffer Zone')"
      ]
     },
     "execution_count": 48,
     "metadata": {},
     "output_type": "execute_result"
    },
    {
     "data": {
      "image/png": "[encoded data removed]",
      "text/plain": [
       "<Figure size 432x288 with 1 Axes>"
      ]
     },
     "metadata": {
      "needs_background": "light"
     },
     "output_type": "display_data"
    }
   ],
   "source": [
    "foo.plot(x='mrb_dist', y=[\"Native_Hawaiian\\Pacific_Islander\",\"American_Indian/Alaska_Native\",\"Hispanic/Latino\", \"Black/African_American\",'Asian' ], kind=\"bar\")\n",
    "plt.legend(loc='center left', bbox_to_anchor=(1.0, 0.5))\n",
    "plt.xlabel('Distance from Air Monitor (meters)')\n",
    "plt.ylabel('Percentage of total population')\n",
    "plt.title('Demographic Profile for each Buffer Zone')"
   ]
  },
  {
   "cell_type": "code",
   "execution_count": 10,
   "metadata": {},
   "outputs": [],
   "source": [
    "test1 = df_holc1.groupby(['holc_grade']).mean()"
   ]
  },
  {
   "cell_type": "code",
   "execution_count": 11,
   "metadata": {},
   "outputs": [],
   "source": [
    "test1 = test1.reset_index()"
   ]
  },
  {
   "cell_type": "code",
   "execution_count": 55,
   "metadata": {},
   "outputs": [
    {
     "data": {
      "text/plain": [
       "Text(0, 0.5, 'Percent (Average)')"
      ]
     },
     "execution_count": 55,
     "metadata": {},
     "output_type": "execute_result"
    },
    {
     "data": {
      "image/png": "[encoded data removed]",
      "text/plain": [
       "<Figure size 432x288 with 1 Axes>"
      ]
     },
     "metadata": {
      "needs_background": "light"
     },
     "output_type": "display_data"
    }
   ],
   "source": [
    "plt.bar(test1['holc_grade'] ,test1['PCT_PEOPLE_OF_COLOR'], color=['green', 'blue', 'yellow', 'red'])\n",
    "plt.title('Percentage of POC in each Level of District Zoning')\n",
    "plt.xlabel('Zone Grades')\n",
    "plt.ylabel('Percent (Average)')"
   ]
  },
  {
   "cell_type": "code",
   "execution_count": 18,
   "metadata": {},
   "outputs": [
    {
     "data": {
      "text/plain": [
       "Text(0, 0.5, 'Percentile (Average)')"
      ]
     },
     "execution_count": 18,
     "metadata": {},
     "output_type": "execute_result"
    },
    {
     "data": {
      "image/png": "[encoded data removed]",
      "text/plain": [
       "<Figure size 432x288 with 1 Axes>"
      ]
     },
     "metadata": {},
     "output_type": "display_data"
    }
   ],
   "source": [
    "plt.bar(test1['holc_grade'] ,test1['HEALTH_PERCENTILE'], color=['green', 'blue', 'yellow', 'red'])\n",
    "plt.title('Health Percentile in each District Zone')\n",
    "plt.xlabel('Zone Grades')\n",
    "plt.ylabel('Percentile (Average)')"
   ]
  },
  {
   "cell_type": "code",
   "execution_count": 19,
   "metadata": {},
   "outputs": [
    {
     "data": {
      "text/plain": [
       "holc_grade\n",
       "A    0.120750\n",
       "B    0.309525\n",
       "C    0.626050\n",
       "D    0.749294\n",
       "Name: HEALTH_PERCENTILE, dtype: float64"
      ]
     },
     "execution_count": 19,
     "metadata": {},
     "output_type": "execute_result"
    }
   ],
   "source": [
    "# higher percentage means more disadvantaged \n",
    "\n",
    "test1['PCT_POP_INC_UNDER_200_POVERTY'].mean()\n",
    "test1.groupby(['holc_grade'])['HEALTH_PERCENTILE'].mean()"
   ]
  },
  {
   "cell_type": "code",
   "execution_count": 12,
   "metadata": {},
   "outputs": [
    {
     "data": {
      "text/plain": [
       "Text(0, 0.5, 'Percent (Average)')"
      ]
     },
     "execution_count": 12,
     "metadata": {},
     "output_type": "execute_result"
    },
    {
     "data": {
      "image/png": "[encoded data removed]",
      "text/plain": [
       "<Figure size 432x288 with 1 Axes>"
      ]
     },
     "metadata": {},
     "output_type": "display_data"
    }
   ],
   "source": [
    "plt.bar(test1['holc_grade'] ,test1['PCT_POP_INC_UNDER_200_POVERTY'], color=['green', 'blue', 'yellow', 'red'])\n",
    "plt.title('Population under the Poverty Line in each District Zone')\n",
    "plt.xlabel('Zone Grades (D is redlined)')\n",
    "plt.ylabel('Percent (Average)')"
   ]
  },
  {
   "cell_type": "code",
   "execution_count": 58,
   "metadata": {},
   "outputs": [
    {
     "data": {
      "text/plain": [
       "Text(0, 0.5, 'Percent (Average)')"
      ]
     },
     "execution_count": 58,
     "metadata": {},
     "output_type": "execute_result"
    },
    {
     "data": {
      "image/png": "[encoded data removed]",
      "text/plain": [
       "<Figure size 432x288 with 1 Axes>"
      ]
     },
     "metadata": {
      "needs_background": "light"
     },
     "output_type": "display_data"
    }
   ],
   "source": [
    "plt.bar(test1['holc_grade'] ,test1['PCT_ADULT_WITH_ASTHMA'], color=['green', 'blue', 'yellow', 'red'])\n",
    "plt.title('Percent with Asthma in each District Zone')\n",
    "plt.xlabel('Zone Grades (D is redlined)')\n",
    "plt.ylabel('Percent (Average)')"
   ]
  },
  {
   "cell_type": "code",
   "execution_count": 63,
   "metadata": {},
   "outputs": [
    {
     "data": {
      "text/plain": [
       "<matplotlib.legend.Legend at 0x21b1e74d888>"
      ]
     },
     "execution_count": 63,
     "metadata": {},
     "output_type": "execute_result"
    },
    {
     "data": {
      "image/png": "[encoded data removed]",
      "text/plain": [
       "<Figure size 432x288 with 1 Axes>"
      ]
     },
     "metadata": {
      "needs_background": "light"
     },
     "output_type": "display_data"
    }
   ],
   "source": [
    "test.plot(x = 'mrb_dist', y = ['Female_under_5_years','Male_under_5_years','Female_Person_of_Color_5_17_years','Male_Person_of_Color_5_17_years','Female_White_5_17_years','Male_White_5_17_years','Female_Age_65_and_over','Male_Age_65_and_over'], kind = 'bar')\n",
    "plt.legend(loc='center left', bbox_to_anchor=(1.0, 0.5))"
   ]
  }
 ],
 "metadata": {
  "kernelspec": {
   "display_name": "Python 3",
   "language": "python",
   "name": "python3"
  },
  "language_info": {
   "codemirror_mode": {
    "name": "ipython",
    "version": 3
   },
   "file_extension": ".py",
   "mimetype": "text/x-python",
   "name": "python",
   "nbconvert_exporter": "python",
   "pygments_lexer": "ipython3",
   "version": "3.7.6"
  },
  "toc": {
   "base_numbering": 1,
   "nav_menu": {},
   "number_sections": true,
   "sideBar": true,
   "skip_h1_title": false,
   "title_cell": "Table of Contents",
   "title_sidebar": "Contents",
   "toc_cell": false,
   "toc_position": {},
   "toc_section_display": true,
   "toc_window_display": true
  }
 },
 "nbformat": 4,
 "nbformat_minor": 4
}
