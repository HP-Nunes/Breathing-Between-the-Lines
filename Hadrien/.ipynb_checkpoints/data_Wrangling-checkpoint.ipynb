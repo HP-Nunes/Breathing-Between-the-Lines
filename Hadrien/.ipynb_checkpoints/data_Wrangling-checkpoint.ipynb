{
 "cells": [
  {
   "cell_type": "code",
   "execution_count": 1,
   "metadata": {},
   "outputs": [],
   "source": [
    "import pandas as pd\n",
    "import glob\n",
    "\n",
    "\n",
    "import os\n",
    "from tqdm import tqdm\n",
    "from sqlalchemy import create_engine, inspect\n",
    "from sqlalchemy.ext.automap import automap_base\n",
    "from sqlalchemy.orm import Session\n",
    "import sqlite3"
   ]
  },
  {
   "cell_type": "markdown",
   "metadata": {},
   "source": [
    "## Import all CSVs from 2020 - 2014 into a single DF."
   ]
  },
  {
   "cell_type": "code",
   "execution_count": null,
   "metadata": {},
   "outputs": [],
   "source": [
    "%%time\n",
    "\n",
    "path = r'./data_airQA' # use your path\n",
    "all_files = glob.glob(path + \"/*.csv\")\n",
    "\n",
    "li = []\n",
    "\n",
    "for filename in all_files:\n",
    "    df = pd.read_csv(filename, index_col=None, header=0)\n",
    "    li.append(df)\n",
    "\n",
    "frame = pd.concat(li, axis=0, ignore_index=True, sort=False)"
   ]
  },
  {
   "cell_type": "markdown",
   "metadata": {},
   "source": [
    "### Save to CSV"
   ]
  },
  {
   "cell_type": "code",
   "execution_count": null,
   "metadata": {},
   "outputs": [],
   "source": [
    "# frame.to_csv('data_airQA/aws_raw.csv') "
   ]
  },
  {
   "cell_type": "markdown",
   "metadata": {},
   "source": [
    "## Filter the raw data for Seattle and re-export as a CSV"
   ]
  },
  {
   "cell_type": "code",
   "execution_count": null,
   "metadata": {},
   "outputs": [],
   "source": [
    "%%time\n",
    "\n",
    "df = pd.read_csv(\"data_airQA/aws_raw.csv\")"
   ]
  },
  {
   "cell_type": "code",
   "execution_count": null,
   "metadata": {},
   "outputs": [],
   "source": [
    "df.loc[df['city']=='Seattle-Tacoma-Bellevue']"
   ]
  },
  {
   "cell_type": "code",
   "execution_count": null,
   "metadata": {},
   "outputs": [],
   "source": [
    "%%time\n",
    "\n",
    "# Reference: https://pythondata.com/working-large-csv-files-python/\n",
    "\n",
    "    \n",
    "    # !!!!!!!!!!!!!!!!!!!!!!!!!!!!!!!!! # ONE TIME process only! # !!!!!!!!!!!!!!!!!!!!!!!!!!!!!!!!! #\n",
    "                # Export CSV to a SQLITE DB, so that queries are manageable in-memory.\n",
    "    \n",
    "\n",
    "chunksize = 10 ** 6 # Chuncking the csv by 1 million rows per iterations\n",
    "\n",
    "file = 'data_airQA/aws_raw.csv'\n",
    "\n",
    "csv_database = create_engine('sqlite:///data_airQA.db') # Generated a 3.0GB file!\n",
    "\n",
    "i = 0\n",
    "j = 1\n",
    "for df in tqdm(pd.read_csv(file, chunksize=chunksize, iterator=True)):\n",
    "      df = df.rename(columns={c: c.replace(' ', '') for c in df.columns}) \n",
    "      df.index += j\n",
    "      i+=1\n",
    "      df.to_sql('table', csv_database, if_exists='append')\n",
    "      j = df.index[-1] + 1"
   ]
  },
  {
   "cell_type": "markdown",
   "metadata": {},
   "source": [
    "### Filter the dataset to retain data solely for the Seattle area"
   ]
  },
  {
   "cell_type": "code",
   "execution_count": null,
   "metadata": {},
   "outputs": [],
   "source": [
    "df = df.loc[df['city']=='Seattle-Tacoma-Bellevue']"
   ]
  },
  {
   "cell_type": "code",
   "execution_count": null,
   "metadata": {},
   "outputs": [],
   "source": [
    "# df.to_csv('data_airQA/aws_Seattle.csv') "
   ]
  },
  {
   "cell_type": "markdown",
   "metadata": {},
   "source": [
    "## Wrangling the dataset"
   ]
  },
  {
   "cell_type": "code",
   "execution_count": null,
   "metadata": {},
   "outputs": [],
   "source": [
    "df_raw = pd.read_csv(\"data_airQA/aws_Seattle.csv\")"
   ]
  },
  {
   "cell_type": "code",
   "execution_count": null,
   "metadata": {},
   "outputs": [],
   "source": [
    "print(df_raw.shape)\n",
    "print('-----------')\n",
    "print(df_raw.dtypes)\n",
    "\n",
    "df_raw.head()"
   ]
  },
  {
   "cell_type": "markdown",
   "metadata": {},
   "source": [
    "### Retain the parameter for PM2.5"
   ]
  },
  {
   "cell_type": "code",
   "execution_count": null,
   "metadata": {},
   "outputs": [],
   "source": [
    "df = df_raw.loc[df_raw['parameter']=='pm25']\n",
    "df = df.dropna(subset=['value'], how='all') # there were none\n",
    "\n",
    "\n",
    "print(df.shape)\n",
    "print('-----------')\n",
    "print(str('We are left with ') + str(float((df.shape[0] / df_raw.shape[0])) * 100) + str('% of the raw dataset after parsing for PM2.5'))\n",
    "df.head()"
   ]
  },
  {
   "cell_type": "markdown",
   "metadata": {},
   "source": [
    "### Extract Date (local time, not UTC) & set field to DateTime"
   ]
  },
  {
   "cell_type": "code",
   "execution_count": null,
   "metadata": {},
   "outputs": [],
   "source": [
    "df['year'] = df['date'].str.split('=').str[1].str.split('-').str[0]\n",
    "\n",
    "df['date_drop'] =  df.date.str.split(', local=').str[1]\n",
    "df['date'] = df['date_drop'].str.split('T').str[0]\n",
    "df['hour'] = df['date_drop'].str.split('T').str[1]\n",
    "df['hour'] = df['hour'].str.replace(r':00-08:00}', '')\n",
    "\n",
    "df['dateTime'] = pd.to_datetime(df['date'] + ' ' + df['hour'])"
   ]
  },
  {
   "cell_type": "code",
   "execution_count": null,
   "metadata": {},
   "outputs": [],
   "source": [
    "### Split Latitude and Longitude into separate fields\n",
    "\n",
    "df['Latitude'] = df.coordinates.str.split(', longitude=').str[0].str.replace(r'{latitude=', '')\n",
    "df['Longitude'] = df.coordinates.str.split(', longitude=').str[1].str.replace(r'}', '')"
   ]
  },
  {
   "cell_type": "code",
   "execution_count": null,
   "metadata": {},
   "outputs": [],
   "source": [
    "# Reformat the attribution field \n",
    "\n",
    "df['attribution'] = 'US EPA AirNow, http://www.airnow.gov/, Washington Department of Ecology'"
   ]
  },
  {
   "cell_type": "code",
   "execution_count": null,
   "metadata": {},
   "outputs": [],
   "source": [
    "df = df.drop(['country','sourcename','sourcetype','mobile','coordinates',\n",
    "              'averagingperiod','Unnamed: 0','Unnamed:0','date_drop'],axis=1)"
   ]
  },
  {
   "cell_type": "code",
   "execution_count": null,
   "metadata": {},
   "outputs": [],
   "source": [
    "print('Cleaned Master Dataset')\n",
    "print('----------')\n",
    "print(df.shape)\n",
    "print('----------')\n",
    "print(df.dtypes)\n",
    "\n",
    "df.head()"
   ]
  },
  {
   "cell_type": "markdown",
   "metadata": {},
   "source": [
    "### Save cleaned 'MasterDataset' to CSV"
   ]
  },
  {
   "cell_type": "code",
   "execution_count": null,
   "metadata": {},
   "outputs": [],
   "source": [
    "# df.to_csv('data_airQA/aws_Seattle_clean.csv')"
   ]
  },
  {
   "cell_type": "markdown",
   "metadata": {},
   "source": [
    "### Set the Date and Time as the dataframe's index, and sort the dataframe chronologically"
   ]
  },
  {
   "cell_type": "code",
   "execution_count": null,
   "metadata": {},
   "outputs": [],
   "source": [
    "df = df.sort_values(by='dateTime')\n",
    "df.set_index(['dateTime'], inplace = True)"
   ]
  },
  {
   "cell_type": "code",
   "execution_count": null,
   "metadata": {},
   "outputs": [],
   "source": [
    "print('The dataframe ranges from 2016-03-14 21:00:00 to 2020-05-29 17:00:00')\n",
    "\n",
    "df.head()"
   ]
  },
  {
   "cell_type": "markdown",
   "metadata": {},
   "source": [
    "## Timeseries"
   ]
  },
  {
   "cell_type": "code",
   "execution_count": null,
   "metadata": {},
   "outputs": [],
   "source": [
    "df_plot = df.groupby(['Latitude','Longitude','location','date','year','dateTime']).mean().reset_index()\n",
    "\n",
    "df_20 = df_plot[df_plot['year']=='2020']\n",
    "df_20.set_index(['dateTime'], inplace = True)\n",
    "df_20 = df_20.resample('D').mean()\n",
    "# df_20['time'] = df_20.index.strftime('%m-%d')\n",
    "# df_20 = df_20.reset_index()\n",
    "\n",
    "df_19 = df_plot[df_plot['year']=='2019']\n",
    "df_19.set_index(['dateTime'], inplace = True)\n",
    "df_19 = df_19.resample('D').mean()\n",
    "# df_19['time'] = df_19.index.strftime('%m-%d')\n",
    "# df_19 = df_19.reset_index()\n",
    "\n",
    "\n",
    "df_18 = df_plot[df_plot['year']=='2018']\n",
    "df_18.set_index(['dateTime'], inplace = True)\n",
    "df_18 = df_18.resample('D').mean()\n",
    "# df_18['time'] = df_18.index.strftime('%m-%d')\n",
    "# df_18 = df_18.reset_index()\n",
    "\n",
    "df_17 = df_plot[df_plot['year']=='2017']\n",
    "df_17.set_index(['dateTime'], inplace = True)\n",
    "df_17 = df_17.resample('D').mean()\n",
    "# df_17['time'] = df_17.index.strftime('%m-%d')\n",
    "# df_17 = df_17.reset_index()\n",
    "\n",
    "df_16 = df_plot[df_plot['year']=='2016']\n",
    "df_16.set_index(['dateTime'], inplace = True)\n",
    "df_16 = df_16.resample('D').mean()\n",
    "# df_16['time'] = df_16.index.strftime('%m-%d')\n",
    "# df_16 = df_16.reset_index()"
   ]
  },
  {
   "cell_type": "code",
   "execution_count": null,
   "metadata": {},
   "outputs": [],
   "source": [
    "import matplotlib.pyplot as plt\n",
    "import seaborn as sns\n",
    "from pylab import *\n",
    "from matplotlib import *\n",
    "\n",
    "plt.figure(figsize=(20,13))\n",
    "with plt.xkcd():\n",
    "    sns.set_style('darkgrid')\n",
    "    sns.lineplot(x=df_20.index, y= df_20.value, marker='o',alpha=1, color='blue')\n",
    "    sns.lineplot(x=df_19.index, y= df_19.value, marker='o',alpha=1, color='green')\n",
    "    sns.lineplot(x=df_18.index, y= df_18.value, marker='o',alpha=1, color='red')\n",
    "    sns.lineplot(x=df_17.index, y= df_17.value, marker='o',alpha=1, color='orange')\n",
    "    sns.lineplot(x=df_16.index, y= df_16.value, marker='o',alpha=1, color='purple')\n",
    "\n",
    "    ax = pylab.axes()\n",
    "    ax.set_title(\"PM2.5 Measurements, Seattle Metro Area, Jan. - May\")\n",
    "\n",
    "    ax.set_ylabel('µg/m³')\n",
    "    ax.set_xlabel('Time of Measurement')"
   ]
  }
 ],
 "metadata": {
  "kernelspec": {
   "display_name": "Python 3",
   "language": "python",
   "name": "python3"
  },
  "language_info": {
   "codemirror_mode": {
    "name": "ipython",
    "version": 3
   },
   "file_extension": ".py",
   "mimetype": "text/x-python",
   "name": "python",
   "nbconvert_exporter": "python",
   "pygments_lexer": "ipython3",
   "version": "3.7.6"
  },
  "toc": {
   "base_numbering": 1,
   "nav_menu": {},
   "number_sections": true,
   "sideBar": true,
   "skip_h1_title": false,
   "title_cell": "Table of Contents",
   "title_sidebar": "Contents",
   "toc_cell": false,
   "toc_position": {},
   "toc_section_display": true,
   "toc_window_display": true
  }
 },
 "nbformat": 4,
 "nbformat_minor": 4
}
